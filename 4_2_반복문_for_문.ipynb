{
  "nbformat": 4,
  "nbformat_minor": 0,
  "metadata": {
    "colab": {
      "name": "4-2. 반복문: for 문.ipynb",
      "provenance": [],
      "toc_visible": true,
      "include_colab_link": true
    },
    "kernelspec": {
      "name": "python3",
      "display_name": "Python 3"
    },
    "language_info": {
      "name": "python"
    }
  },
  "cells": [
    {
      "cell_type": "markdown",
      "metadata": {
        "id": "view-in-github",
        "colab_type": "text"
      },
      "source": [
        "<a href=\"https://colab.research.google.com/github/anmo4441/SkillTreePython/blob/main/4_2_%EB%B0%98%EB%B3%B5%EB%AC%B8_for_%EB%AC%B8.ipynb\" target=\"_parent\"><img src=\"https://colab.research.google.com/assets/colab-badge.svg\" alt=\"Open In Colab\"/></a>"
      ]
    },
    {
      "cell_type": "markdown",
      "source": [
        "# 4-2. 조건문 : for 문\n",
        "---\n",
        "* 날짜: 2023-01-03\n",
        "* 이름: 오혜성"
      ],
      "metadata": {
        "id": "kB5IciXEm6o4"
      }
    },
    {
      "cell_type": "markdown",
      "source": [
        "## 개념정리\n",
        "---\n",
        "\n",
        "반복문은 특정 조건에 따라 반복문 코드 블럭 안의 내용을 반복합니다. 반복문을 잘 사용하면 100번 써야 할 일을 한번에 끝낼 수 있습니다. 반복문에는 `for문`과 `while문` 이 있습니다. 오늘 배울 `for문`은 처음부터 반복의 횟수를 정해줍니다. \n",
        "\n"
      ],
      "metadata": {
        "id": "4iN8NFzHRJ2D"
      }
    },
    {
      "cell_type": "markdown",
      "source": [
        "### **(1) 기본 사용**\n",
        "\n",
        "\n",
        "for문은 몇번 반복할 것인지 조건을 주고, 그 조건에 따라 for문 아래에 있는 코드가 실행됩니다.\n",
        "\n",
        "```\n",
        "for 조건: # 조건의 횟수만큼\n",
        "  코드1 # 이 코드들을 반복합니다.\n",
        "  코드2 # 이 코드들을 반복합니다.\n",
        "  ...\n",
        "```\n",
        "\n",
        "그럼 조건을 어떻게 주는지 알아봅시다.\n",
        "\n",
        "\n"
      ],
      "metadata": {
        "id": "MAM8MDnfw68b"
      }
    },
    {
      "cell_type": "markdown",
      "source": [
        "#### **군집자료형과 함께 쓰는 for문**\n",
        "\n",
        "군집자료형의 요소가 차례대로 `i` 에 바인딩 됩니다. `for문` 아래에서 `i`가 변수로 작동됩니다.  아래 예시에서 `i`는 모두 `1,2,3` 순으로 출력됩니다.  \n",
        "\n",
        "```\n",
        "for i in [1,2,3]:\n",
        "  print(\"i의 값은 : \", i)\n",
        "```"
      ],
      "metadata": {
        "id": "DHtQmH-R-4tp"
      }
    },
    {
      "cell_type": "code",
      "source": [
        "for i in [1,2,3]: # 리시트 안의 요소를 하나씩 뽑아 i 에 바인딩 - > 리스트 요소 개수만큼 반복\n",
        "  print(\"i의 값은 : \", i)"
      ],
      "metadata": {
        "id": "QhrqH2Yt-21m",
        "colab": {
          "base_uri": "https://localhost:8080/"
        },
        "outputId": "63c8b041-4de7-47e0-f159-b759dadff3a1"
      },
      "execution_count": null,
      "outputs": [
        {
          "output_type": "stream",
          "name": "stdout",
          "text": [
            "i의 값은 :  1\n",
            "i의 값은 :  2\n",
            "i의 값은 :  3\n"
          ]
        }
      ]
    },
    {
      "cell_type": "markdown",
      "source": [
        "리스트가 아닌 튜플이나 문자열 등 다른 군집자료형도 같은 결과를 얻습니다.\n",
        "\n",
        "```\n",
        "for i in (1,2,3):\n",
        "  print(\"반복\", i)\n",
        "```"
      ],
      "metadata": {
        "id": "82JNaFiOCys3"
      }
    },
    {
      "cell_type": "code",
      "source": [
        "for i in (1,2,3):\n",
        "  print(\"반복\", i)"
      ],
      "metadata": {
        "id": "pp-RWxgdCxTm",
        "colab": {
          "base_uri": "https://localhost:8080/"
        },
        "outputId": "db1d1322-a926-4cdd-e65d-f1f886eb39e0"
      },
      "execution_count": null,
      "outputs": [
        {
          "output_type": "stream",
          "name": "stdout",
          "text": [
            "반복 1\n",
            "반복 2\n",
            "반복 3\n"
          ]
        }
      ]
    },
    {
      "cell_type": "markdown",
      "source": [
        "for문 내에서 변수가 필요 없으면 아래와 같이 언더바(_)로 표기하기도 합니다.\n",
        "\n",
        "```\n",
        "for _ in [1,2,3]:\n",
        "  print(\"i 값이 필요없는 반복\")\n",
        "```\n"
      ],
      "metadata": {
        "id": "6UC28ghYC0lv"
      }
    },
    {
      "cell_type": "code",
      "source": [
        "for _ in [1,2,3]: # 보통 코드에서 불필요한 변수는 _ 처리 \n",
        "  print(\"i 값이 필요없는 반복\")"
      ],
      "metadata": {
        "id": "I4yAg6bDCzmd",
        "colab": {
          "base_uri": "https://localhost:8080/"
        },
        "outputId": "33143269-eb88-422e-e60c-d16b7298551c"
      },
      "execution_count": null,
      "outputs": [
        {
          "output_type": "stream",
          "name": "stdout",
          "text": [
            "i 값이 필요없는 반복\n",
            "i 값이 필요없는 반복\n",
            "i 값이 필요없는 반복\n"
          ]
        }
      ]
    },
    {
      "cell_type": "markdown",
      "source": [
        "#### **range와 함께 쓰는 for문**\n",
        "\n",
        "\n",
        "굳이 군집자료형을 만들어 놓지 않아도 반복문을 쓸 수 있습니다. 이 때는 range를 이용하는데, range도 슬라이싱 과 마찬가지로 처음, 끝, 스텝이 존재합니다. \n",
        "\n",
        "* `range(n)`: `0`부터 `n-1` 까지 총 `n` 회 반복됩니다.\n",
        "\n",
        "```\n",
        "for i in range(3):\n",
        "  print(\"i의 값은 : \", i)\n",
        "```\n"
      ],
      "metadata": {
        "id": "4iqQ7RMZC37L"
      }
    },
    {
      "cell_type": "code",
      "source": [
        "for i in range(30): # 0부터 바인딩된다.출발점이 0 \n",
        "  print(\"i의 값은 : \", i)"
      ],
      "metadata": {
        "id": "VIbY94-2C1pQ",
        "colab": {
          "base_uri": "https://localhost:8080/"
        },
        "outputId": "5283d070-9454-4b2b-e1a4-c0479bd77fdc"
      },
      "execution_count": null,
      "outputs": [
        {
          "output_type": "stream",
          "name": "stdout",
          "text": [
            "i의 값은 :  0\n",
            "i의 값은 :  1\n",
            "i의 값은 :  2\n",
            "i의 값은 :  3\n",
            "i의 값은 :  4\n",
            "i의 값은 :  5\n",
            "i의 값은 :  6\n",
            "i의 값은 :  7\n",
            "i의 값은 :  8\n",
            "i의 값은 :  9\n",
            "i의 값은 :  10\n",
            "i의 값은 :  11\n",
            "i의 값은 :  12\n",
            "i의 값은 :  13\n",
            "i의 값은 :  14\n",
            "i의 값은 :  15\n",
            "i의 값은 :  16\n",
            "i의 값은 :  17\n",
            "i의 값은 :  18\n",
            "i의 값은 :  19\n",
            "i의 값은 :  20\n",
            "i의 값은 :  21\n",
            "i의 값은 :  22\n",
            "i의 값은 :  23\n",
            "i의 값은 :  24\n",
            "i의 값은 :  25\n",
            "i의 값은 :  26\n",
            "i의 값은 :  27\n",
            "i의 값은 :  28\n",
            "i의 값은 :  29\n"
          ]
        }
      ]
    },
    {
      "cell_type": "markdown",
      "source": [
        "\n",
        "* `range(n, m)`: `n`부터 `m-1`까지 총 `m-n`회 반복됩니다.\n",
        "\n",
        "```\n",
        "for i in range(3, 6):\n",
        "  print(i)\n",
        "```\n"
      ],
      "metadata": {
        "id": "JrGY3LipC7__"
      }
    },
    {
      "cell_type": "code",
      "source": [
        "for i in range(3, 6):# 시작점이 3, 끝 5 , 총 3번 반복\n",
        "  print(i)"
      ],
      "metadata": {
        "id": "Per7lcYxC6am",
        "colab": {
          "base_uri": "https://localhost:8080/"
        },
        "outputId": "a0de71f5-bdc5-4885-a736-53f86e2af455"
      },
      "execution_count": null,
      "outputs": [
        {
          "output_type": "stream",
          "name": "stdout",
          "text": [
            "3\n",
            "4\n",
            "5\n"
          ]
        }
      ]
    },
    {
      "cell_type": "markdown",
      "source": [
        "\n",
        "* `range(n, m, s)`: `n`부터 `m-1`까지 `s`씩 건너뛰며 반복됩니다.\n",
        "\n",
        "```\n",
        "for i in range(3, 10, 2):\n",
        "  print(i)\n",
        "```\n"
      ],
      "metadata": {
        "id": "CEn0LJkdC9tN"
      }
    },
    {
      "cell_type": "code",
      "source": [
        "for i in range(3, 10, 2): #3부터 9까지, 건너뛰면서 반복.\n",
        "  print(i)"
      ],
      "metadata": {
        "id": "alTQiW14C8ze",
        "colab": {
          "base_uri": "https://localhost:8080/"
        },
        "outputId": "591ebe6f-6e2f-464a-f7ae-2f3603fe1369"
      },
      "execution_count": null,
      "outputs": [
        {
          "output_type": "stream",
          "name": "stdout",
          "text": [
            "3\n",
            "5\n",
            "7\n",
            "9\n"
          ]
        }
      ]
    },
    {
      "cell_type": "markdown",
      "source": [
        "`range` 가 보통은 `for`문과 함께 쓰이긴 하지만 이 자체가 일종의 sequence입니다.\n",
        "\n",
        "아래와 같이 리스트로 정의해 리스트의 값을 유연하게 정의해 줄 수도 있습니다. \n",
        "\n",
        "```\n",
        "l = list(range(101))\n",
        "print(l)\n",
        "```"
      ],
      "metadata": {
        "id": "lhHXmEns7jw9"
      }
    },
    {
      "cell_type": "code",
      "source": [
        "l = list(range(101))\n",
        "print(l)"
      ],
      "metadata": {
        "id": "_LtvVT9giSsx",
        "colab": {
          "base_uri": "https://localhost:8080/"
        },
        "outputId": "ed39cdc2-27ad-445c-b66e-aa2c06703052"
      },
      "execution_count": null,
      "outputs": [
        {
          "output_type": "stream",
          "name": "stdout",
          "text": [
            "[0, 1, 2, 3, 4, 5, 6, 7, 8, 9, 10, 11, 12, 13, 14, 15, 16, 17, 18, 19, 20, 21, 22, 23, 24, 25, 26, 27, 28, 29, 30, 31, 32, 33, 34, 35, 36, 37, 38, 39, 40, 41, 42, 43, 44, 45, 46, 47, 48, 49, 50, 51, 52, 53, 54, 55, 56, 57, 58, 59, 60, 61, 62, 63, 64, 65, 66, 67, 68, 69, 70, 71, 72, 73, 74, 75, 76, 77, 78, 79, 80, 81, 82, 83, 84, 85, 86, 87, 88, 89, 90, 91, 92, 93, 94, 95, 96, 97, 98, 99, 100]\n"
          ]
        }
      ]
    },
    {
      "cell_type": "markdown",
      "source": [
        "### **(2) 함수와 함께 쓰는 for문**\n",
        "\n",
        "\n",
        "함수도 반복해서 실행시켜야 할 경우 for문을 통해서 작성할 수 있습니다.\n",
        "\n",
        "```\n",
        "def square(x):\n",
        "  return x**2\n",
        "\n",
        "for x in [1,2,3,4,5]:\n",
        "  print(square(x))\n",
        "\n",
        "```"
      ],
      "metadata": {
        "id": "uJyYo462C_rJ"
      }
    },
    {
      "cell_type": "code",
      "source": [
        "def square(x):\n",
        "  return x**2\n",
        "\n",
        "for x in [1,2,3,4,5]:\n",
        "  print(square(x))"
      ],
      "metadata": {
        "id": "AUXD8Wj1C-nd",
        "colab": {
          "base_uri": "https://localhost:8080/"
        },
        "outputId": "0b4c6a7c-853b-447f-d36b-2ef28034cad2"
      },
      "execution_count": null,
      "outputs": [
        {
          "output_type": "stream",
          "name": "stdout",
          "text": [
            "1\n",
            "4\n",
            "9\n",
            "16\n",
            "25\n"
          ]
        }
      ]
    },
    {
      "cell_type": "markdown",
      "source": [
        "앞에서 배운 내장함수 `map`을 기억하시나요? `map` 을 이용해 함수 `square`에 리스트 `[1,2,3,4,5]` 의 결과를 출력해봅시다. \n",
        "\n",
        "```\n",
        "l = list(map(square, [1,2,3,4,5]))\n",
        "print(l)\n",
        "```"
      ],
      "metadata": {
        "id": "eiOu55kT8btU"
      }
    },
    {
      "cell_type": "code",
      "source": [
        "l = list(map(square, list(range(1,6))))\n",
        "print(l) \n"
      ],
      "metadata": {
        "id": "7KXdJWaijHsI",
        "colab": {
          "base_uri": "https://localhost:8080/"
        },
        "outputId": "664d0bea-757c-47ea-fff1-c8d5266d7ab8"
      },
      "execution_count": null,
      "outputs": [
        {
          "output_type": "stream",
          "name": "stdout",
          "text": [
            "[1, 4, 9, 16, 25]\n"
          ]
        }
      ]
    },
    {
      "cell_type": "markdown",
      "source": [
        "위 코드와 정확히 똑같은 결과를 내는 코드를 `for`문을 이용해 작성해 봅시다. \n",
        "실행 결과 제곱 값이 담긴 리스트를 출력해야 합니다.\n"
      ],
      "metadata": {
        "id": "FuF5a-sm9F3M"
      }
    },
    {
      "cell_type": "code",
      "source": [
        "for x in [1,2,3,4,5]:\n",
        "  l.append(square(x))\n",
        "  print(square(x))"
      ],
      "metadata": {
        "id": "ytGJ2gMT9TZu",
        "colab": {
          "base_uri": "https://localhost:8080/"
        },
        "outputId": "cabf30a6-db67-43a2-f5b8-448059bec42a"
      },
      "execution_count": null,
      "outputs": [
        {
          "output_type": "stream",
          "name": "stdout",
          "text": [
            "1\n",
            "4\n",
            "9\n",
            "16\n",
            "25\n"
          ]
        }
      ]
    },
    {
      "cell_type": "markdown",
      "source": [
        "### **(3) if문과 함께 쓰는 for문**\n",
        "\n",
        "for문 아래에 조건을 주어 특정 변수가 입력될 때만 코드를 실행할 수 있습니다. \n",
        "\n",
        "```\n",
        "for i in range(3):\n",
        "  print(i)\n",
        "  if i>0:\n",
        "    print('0보다 크다!')\n",
        "print('for문 끝')\n",
        "```\n"
      ],
      "metadata": {
        "id": "69DKCow2DDbM"
      }
    },
    {
      "cell_type": "code",
      "source": [
        "for i in range(3):\n",
        "  print(i) # 0, 1, 2\n",
        "  if i>0: # 0보다 클 때만\n",
        "    print('0보다 크다!')\n",
        "print('for문 끝')"
      ],
      "metadata": {
        "id": "UQFMVQ6eDBxF",
        "colab": {
          "base_uri": "https://localhost:8080/"
        },
        "outputId": "13bc19e0-b192-4a4f-f671-6b2f55ecde39"
      },
      "execution_count": null,
      "outputs": [
        {
          "output_type": "stream",
          "name": "stdout",
          "text": [
            "0\n",
            "1\n",
            "0보다 크다!\n",
            "2\n",
            "0보다 크다!\n",
            "for문 끝\n"
          ]
        }
      ]
    },
    {
      "cell_type": "markdown",
      "source": [
        "#### 다음반복으로 건너뛰기\n",
        "\n",
        "* `continue`\n",
        "\n",
        "`for문` 안에서 `continue`를 만나면 즉시 다음 반복으로 넘어갑니다. `continue` 아래에 있는 `for문` 코드들은 진행되지 않습니다. \n",
        "\n",
        "```\n",
        "for i in range(5):\n",
        "  print(i) \n",
        "  if i < 3: continue\n",
        "  print('--') \n",
        "```\n"
      ],
      "metadata": {
        "id": "eM4qjvU4DHTs"
      }
    },
    {
      "cell_type": "code",
      "source": [
        " for i in range(5):\n",
        "  print(i) \n",
        "  if i < 3: continue # i가 3보다 적으면 건너뛴다.\n",
        "  print('--') # 3보다 작으면 출력이 안된다."
      ],
      "metadata": {
        "id": "Ykl1kjbDDGKv",
        "colab": {
          "base_uri": "https://localhost:8080/"
        },
        "outputId": "11500ea5-0991-4ed3-9c06-3ce8981c97c4"
      },
      "execution_count": null,
      "outputs": [
        {
          "output_type": "stream",
          "name": "stdout",
          "text": [
            "0\n",
            "1\n",
            "2\n",
            "3\n",
            "--\n",
            "4\n",
            "--\n"
          ]
        }
      ]
    },
    {
      "cell_type": "markdown",
      "source": [
        "#### **for문을 즉시 종료하기**  \n",
        "\n",
        "* `break`\n",
        "\n",
        "`for문` 안에서 `break` 을 만나면 즉시 `for문`이 종료됩니다. (모든 루프가 돌아가지 않았어도)\n",
        "\n",
        "```\n",
        "for i in range(5):\n",
        "  print(i)\n",
        "  if i==2: break\n",
        "  print('--')\n",
        "```"
      ],
      "metadata": {
        "id": "UFYB6MgHDM6D"
      }
    },
    {
      "cell_type": "code",
      "source": [
        "for i in range(5):\n",
        "  print(i)\n",
        "  if i==2: break # i가 2 되는 순간 종료\n",
        "  print('--')"
      ],
      "metadata": {
        "id": "iiI9RapDDJqQ",
        "colab": {
          "base_uri": "https://localhost:8080/"
        },
        "outputId": "94a6cebf-2a09-4e4c-e200-07645a317a71"
      },
      "execution_count": null,
      "outputs": [
        {
          "output_type": "stream",
          "name": "stdout",
          "text": [
            "0\n",
            "--\n",
            "1\n",
            "--\n",
            "2\n"
          ]
        }
      ]
    },
    {
      "cell_type": "markdown",
      "source": [
        "`if문`의 조건을 만족하여 `break`을 만나는 순간 `for문`이 종료되고, 다음 루프가 실행조차 되지 않습니다. 따라서 2번째 루프가 시작된 후 다음 코드들은 보이지 않네요.\n"
      ],
      "metadata": {
        "id": "fbzgJuHCDS-G"
      }
    },
    {
      "cell_type": "markdown",
      "source": [
        "### **(4) for문을 더 효율적으로 사용하기**\n",
        "\n",
        "for문은 코드를 짤 때 매우 빈번하게 사용되는 문법입니다. 그러니 for문을 좀 더 효율적으로 사용하는 방법에 대해 알고 있는것이 매우 도움이 됩니다.\n",
        "\n",
        "연습을 위해 우선 리스트 두개를 먼저 정의해 봅시다.\n",
        "\n",
        "```\n",
        "l1 = [\"A\",\"B\",\"C\"]\n",
        "l2 = [\"a\", \"b\", \"c\"]\n",
        "```"
      ],
      "metadata": {
        "id": "haxPKRHqFCgX"
      }
    },
    {
      "cell_type": "code",
      "source": [
        "l1 = [\"A\",\"B\",\"C\"]\n",
        "l2 = [\"a\", \"b\", \"c\"]\n"
      ],
      "metadata": {
        "id": "sogpF7X3AqSd"
      },
      "execution_count": null,
      "outputs": []
    },
    {
      "cell_type": "markdown",
      "source": [
        "\n",
        "#### **두개의 sequence를 함께 나열하기**\n",
        "\n",
        "* `zip`  \n",
        "\n",
        "`zip`을 이용해서 두개의 sequence를 순차적으로 함께 나타낼 수 있습니다. 사용 문법을 잘 숙지해 둡시다.\n",
        "\n",
        "```\n",
        "for x1, x2 in zip(l1, l2):\n",
        "  print(f'1: {x1}, 2: {x2}')\n",
        "```\n"
      ],
      "metadata": {
        "id": "ALu7TgjkFEiN"
      }
    },
    {
      "cell_type": "code",
      "source": [
        "for x1, x2 in zip(l1, l2):\n",
        "  print(f'1: {x1}, 2: {x2}')"
      ],
      "metadata": {
        "id": "JXYWpAdhDRFt",
        "colab": {
          "base_uri": "https://localhost:8080/"
        },
        "outputId": "c84a7b67-4ffa-4e70-bb69-dd6727601001"
      },
      "execution_count": null,
      "outputs": [
        {
          "output_type": "stream",
          "name": "stdout",
          "text": [
            "1: A, 2: a\n",
            "1: B, 2: b\n",
            "1: C, 2: c\n"
          ]
        }
      ]
    },
    {
      "cell_type": "markdown",
      "source": [
        "#### **순번을 함께 나열하기**\n",
        "\n",
        "* `enumerate`  \n",
        "\n",
        "`for문` 내에서 변수의 값은 항상 `sequence`에 의해서 정해집니다. 절대적인 순번(0, 1, 2, 등)을 같이 변수로 바인딩하고 싶다면 `enumerate`를 사용합니다. \n",
        "\n",
        "```\n",
        "for idx, x in enumerate(l1):\n",
        "  print( idx, x)\n",
        "```"
      ],
      "metadata": {
        "id": "Zz_c1lJYHP01"
      }
    },
    {
      "cell_type": "code",
      "source": [
        "#길이만큼 인덱싱\n",
        "for i in range(len(l1)) :\n",
        "  print(i, l1[i])\n",
        "\n",
        "# 요소\n",
        "for x in l1 : \n",
        "  print(x)\n",
        "\n",
        "# 인덱스, 요소\n",
        "for idx, x in enumerate(l1):\n",
        "  print( idx, x)"
      ],
      "metadata": {
        "id": "APDyAy_CFIan",
        "colab": {
          "base_uri": "https://localhost:8080/"
        },
        "outputId": "4e9c3a00-a392-4247-ecb9-cf48fa4e2028"
      },
      "execution_count": null,
      "outputs": [
        {
          "output_type": "stream",
          "name": "stdout",
          "text": [
            "0 A\n",
            "1 B\n",
            "2 C\n",
            "A\n",
            "B\n",
            "C\n",
            "0 A\n",
            "1 B\n",
            "2 C\n"
          ]
        }
      ]
    },
    {
      "cell_type": "markdown",
      "source": [
        "### (5) 다중 for문\n",
        "\n",
        "for문 아래 for문을 또 추가 할 수 있습니다. 다만 다중 for문일 때 코드의 작동순서를 잘 파악할 필요가 있습니다. 삼중, 사중 for문도 구현은 가능합니다. 하지만 for문이 추가될때마다 계산량이 급격히 증가하기 때문에 되도록이면 이중 for문을 넘어가지 않는것이 좋습니다.\n",
        "\n",
        "```\n",
        "for i in range(3):\n",
        "  for j in range(3):\n",
        "    print(f\"i: {i}, j:{j}\")\n",
        "```"
      ],
      "metadata": {
        "id": "aeMCCH2LHXDS"
      }
    },
    {
      "cell_type": "code",
      "source": [
        "for i in range(3) : \n",
        "  for j in range(3) :\n",
        "    print(f\"i: {i}, j:{j}\")\n",
        "# 0 - 0,1,2\n",
        "# 1 - 0,1,2\n",
        "# 2 - 0,1,2"
      ],
      "metadata": {
        "id": "sYUzu5AcHgEF",
        "colab": {
          "base_uri": "https://localhost:8080/"
        },
        "outputId": "5b16cf7e-5378-4549-d564-5162afc60b45"
      },
      "execution_count": null,
      "outputs": [
        {
          "output_type": "stream",
          "name": "stdout",
          "text": [
            "i: 0, j:0\n",
            "i: 0, j:1\n",
            "i: 0, j:2\n",
            "i: 1, j:0\n",
            "i: 1, j:1\n",
            "i: 1, j:2\n",
            "i: 2, j:0\n",
            "i: 2, j:1\n",
            "i: 2, j:2\n"
          ]
        }
      ]
    },
    {
      "cell_type": "markdown",
      "source": [
        "코드가 아직 익숙하지 않은 상태에서 다중 for문을 보면 해석하기 어려울 수 있습니다. 이것저것 변수를 건드려보고, 출력을 바꾸면서 최대한 익숙해지도록 하는 것이 좋습니다. 아래 코드가 어떻게 나올지 예상해보고 출력해 봅시다.\n"
      ],
      "metadata": {
        "id": "9t530iSZHdQ9"
      }
    },
    {
      "cell_type": "markdown",
      "source": [
        "```\n",
        "for i in range(1, 6):\n",
        "    print(i, end=\": \")\n",
        "    for j in range(1, 11):        \n",
        "        print(j, end=\" \")\n",
        "    print()\n",
        "```"
      ],
      "metadata": {
        "id": "E6O8MHx_HeH4"
      }
    },
    {
      "cell_type": "code",
      "source": [
        "for i in range(1, 6):\n",
        "    print(i, end=\": \")\n",
        "    for j in range(1, 11):        \n",
        "        print(j, end=\" \")\n",
        "    print()"
      ],
      "metadata": {
        "id": "LHKNGIVSHWBe",
        "colab": {
          "base_uri": "https://localhost:8080/"
        },
        "outputId": "bc779b3a-fb23-4d10-d41d-cbf13761e084"
      },
      "execution_count": null,
      "outputs": [
        {
          "output_type": "stream",
          "name": "stdout",
          "text": [
            "1: 1 2 3 4 5 6 7 8 9 10 \n",
            "2: 1 2 3 4 5 6 7 8 9 10 \n",
            "3: 1 2 3 4 5 6 7 8 9 10 \n",
            "4: 1 2 3 4 5 6 7 8 9 10 \n",
            "5: 1 2 3 4 5 6 7 8 9 10 \n"
          ]
        }
      ]
    },
    {
      "cell_type": "markdown",
      "source": [
        "### (6) 리스트 안에 for문 쓰기 \n",
        "\n",
        "0부터 9까지 값이 담긴 리스트를 생성하는 방법을 앞에서 배워봤습니다.\n",
        "\n",
        "* `range`를 이용하기\n",
        "\n",
        "```\n",
        "l = list(range(10))\n",
        "```\n",
        "\n",
        "\n",
        "* `for`문 이용하기\n",
        "\n",
        "```\n",
        "l = []\n",
        "for i in range(10):\n",
        "  l.append(i)\n",
        "```\n",
        "\n",
        "이와 비슷하게 for문을 리스트 안에서 한줄로 사용하는 방법이 있습니다. 아래코드는 위 코드들과 완전히 동일한 결과를 냅니다.\n",
        "\n",
        "```\n",
        "l = [i for i in range(10)]\n",
        "```"
      ],
      "metadata": {
        "id": "cuGJgjCZmqWh"
      }
    },
    {
      "cell_type": "code",
      "source": [
        "l = list(range(10))\n",
        "l = []\n",
        "for i in range(10):\n",
        "  l.append(i)\n",
        "\n",
        "  l = [i for i in range(10)]\n",
        "\n",
        "l = [ i for i in range(10)]\n",
        "l"
      ],
      "metadata": {
        "id": "FZdG18BbpF1x",
        "colab": {
          "base_uri": "https://localhost:8080/"
        },
        "outputId": "b407b6ff-1084-4508-b2d5-58262d7a6762"
      },
      "execution_count": null,
      "outputs": [
        {
          "output_type": "execute_result",
          "data": {
            "text/plain": [
              "[0, 1, 2, 3, 4, 5, 6, 7, 8, 9]"
            ]
          },
          "metadata": {},
          "execution_count": 45
        }
      ]
    },
    {
      "cell_type": "markdown",
      "source": [
        "#### **반환값 조절하기**\n",
        "\n",
        "리스트에 담기는 값은 가장 처음에 적어줍니다. 위 코드에서는 i라는 변수가 리스트에 담겨집니다. 만약 i의 제곱값을 리스트에 넣고 싶다면 다음과 같이 작성합니다.\n",
        "\n",
        "```\n",
        "l = [i**2 for i in range(10)]\n",
        "```"
      ],
      "metadata": {
        "id": "jqHqC72fB92N"
      }
    },
    {
      "cell_type": "code",
      "source": [
        "l = [i**2 for i in range(10)] # 변수 i를 변형가능\n"
      ],
      "metadata": {
        "id": "9tv9InWkpLkB"
      },
      "execution_count": null,
      "outputs": []
    },
    {
      "cell_type": "markdown",
      "source": [
        "#### **이중 for문 구현하기**\n",
        "\n",
        "이중 for문을 구현하는 것도 가능합니다. 위에서 배운 이중 for문 하나를 작성해 보겠습니다.\n",
        "\n",
        "```\n",
        "for i in range(3):\n",
        "  for j in range(5):\n",
        "    print(i, j)\n",
        "```\n"
      ],
      "metadata": {
        "id": "cSDjRaswCYnt"
      }
    },
    {
      "cell_type": "code",
      "source": [
        "for i in range(3):\n",
        "  for j in range(5):\n",
        "    print(i, j)"
      ],
      "metadata": {
        "id": "PoGSVpsIOINn",
        "colab": {
          "base_uri": "https://localhost:8080/"
        },
        "outputId": "bf2e0841-2384-4248-94f5-6ef04dffc88b"
      },
      "execution_count": null,
      "outputs": [
        {
          "output_type": "stream",
          "name": "stdout",
          "text": [
            "0 0\n",
            "0 1\n",
            "0 2\n",
            "0 3\n",
            "0 4\n",
            "1 0\n",
            "1 1\n",
            "1 2\n",
            "1 3\n",
            "1 4\n",
            "2 0\n",
            "2 1\n",
            "2 2\n",
            "2 3\n",
            "2 4\n"
          ]
        }
      ]
    },
    {
      "cell_type": "markdown",
      "source": [
        "\n",
        "이 코드와 같은 기능을 하는 코드는 아래와 같습니다. (다만 아래는 리스트를 반환하기 때문에 완전히 같은 코드는 아닙니다.)\n",
        "\n",
        "```\n",
        "l = [f'{i}, {j}' for i in range(3) for j in range(5)]\n",
        "print(l)\n",
        "```"
      ],
      "metadata": {
        "id": "czhnF1LzOITF"
      }
    },
    {
      "cell_type": "code",
      "source": [
        "l = [f'{i}, {j}' for i in range(3) for j in range(5)]\n",
        "print(l)"
      ],
      "metadata": {
        "id": "-hisdcH7NvMY",
        "colab": {
          "base_uri": "https://localhost:8080/"
        },
        "outputId": "67f78bf2-b22c-4fe2-a584-7ea1744e02f8"
      },
      "execution_count": null,
      "outputs": [
        {
          "output_type": "stream",
          "name": "stdout",
          "text": [
            "['0, 0', '0, 1', '0, 2', '0, 3', '0, 4', '1, 0', '1, 1', '1, 2', '1, 3', '1, 4', '2, 0', '2, 1', '2, 2', '2, 3', '2, 4']\n"
          ]
        }
      ]
    },
    {
      "cell_type": "markdown",
      "source": [
        "## 문제풀이\n",
        "---"
      ],
      "metadata": {
        "id": "8Rb4NNbKHiLD"
      }
    },
    {
      "cell_type": "markdown",
      "source": [
        "**[정의] 01~10**\n",
        "\n",
        "아래와 같이 리스트를 정의하세요.\n",
        "\n",
        "```\n",
        "my_list = [\"apple\", \"blue\", \"cup\", \"door\"]\n",
        "```\n"
      ],
      "metadata": {
        "id": "xOsqfbd9HmQh"
      }
    },
    {
      "cell_type": "code",
      "source": [
        "my_list = [\"apple\", \"blue\", \"cup\", \"door\"]"
      ],
      "metadata": {
        "id": "kT4FCjRCHzUP"
      },
      "execution_count": 22,
      "outputs": []
    },
    {
      "cell_type": "markdown",
      "source": [
        "**예제 01**\n",
        "\n",
        "\n",
        "아래 실행 결과를 내는 코드를 `for문`과 `my_list`를 이용하여 작성하세요\n",
        "\n",
        "```{.no-highlight}\n",
        "It's apple\n",
        "It's blue\n",
        "It's cup\n",
        "It's door\n",
        "```"
      ],
      "metadata": {
        "id": "lrpQEjSPHsq2"
      }
    },
    {
      "cell_type": "code",
      "source": [
        "for i in (0,1,2,3):\n",
        "  print(\"It's\", my_list[i])"
      ],
      "metadata": {
        "id": "kY0jptRtHfu1",
        "colab": {
          "base_uri": "https://localhost:8080/"
        },
        "outputId": "7c55c504-a350-4bc6-add4-0d0dae1f67d8"
      },
      "execution_count": null,
      "outputs": [
        {
          "output_type": "stream",
          "name": "stdout",
          "text": [
            "It's apple\n",
            "It's blue\n",
            "It's cup\n",
            "It's door\n"
          ]
        }
      ]
    },
    {
      "cell_type": "markdown",
      "source": [
        "**예제 02** \n",
        "\n",
        "아래 실행 결과를 내는 코드를 `for문`과 `range`를 이용해서 작성하세요\n",
        "\n",
        "```{.no-highlight}\n",
        "It's apple\n",
        "It's blue\n",
        "It's cup\n",
        "It's door\n",
        "```\n"
      ],
      "metadata": {
        "id": "EMiIhII_H1-l"
      }
    },
    {
      "cell_type": "code",
      "source": [
        "for i in range(4):\n",
        "  print(\"It's\", my_list[i])"
      ],
      "metadata": {
        "id": "2Z5FlkORH4k6",
        "colab": {
          "base_uri": "https://localhost:8080/"
        },
        "outputId": "e91525cf-0ec8-4e6b-df7e-1b69ddc22c2c"
      },
      "execution_count": null,
      "outputs": [
        {
          "output_type": "stream",
          "name": "stdout",
          "text": [
            "It's apple\n",
            "It's blue\n",
            "It's cup\n",
            "It's door\n"
          ]
        }
      ]
    },
    {
      "cell_type": "markdown",
      "source": [
        "**예제 03** \n",
        "\n",
        "아래 실행 결과를 내는 코드를 작성하세요\n",
        "\n",
        "```{.no-highlight}\n",
        "-------\n",
        "start!\n",
        "It's apple\n",
        "It's blue\n",
        "It's cup\n",
        "It's door\n",
        "-------\n",
        "```"
      ],
      "metadata": {
        "id": "RupJUdtSH52T"
      }
    },
    {
      "cell_type": "code",
      "source": [
        "print(\"-------\")\n",
        "print(\"start !\")\n",
        "for i in range(4):\n",
        "  print(\"It's\", my_list[i])\n",
        "print(\"-------\")"
      ],
      "metadata": {
        "id": "MJr9wmzoH6kV",
        "colab": {
          "base_uri": "https://localhost:8080/"
        },
        "outputId": "b428cba2-b46c-4071-88df-21d1a98eda8b"
      },
      "execution_count": null,
      "outputs": [
        {
          "output_type": "stream",
          "name": "stdout",
          "text": [
            "-------\n",
            "start !\n",
            "It's apple\n",
            "It's blue\n",
            "It's cup\n",
            "It's door\n",
            "-------\n"
          ]
        }
      ]
    },
    {
      "cell_type": "markdown",
      "source": [
        "**예제 04** \n",
        "\n",
        "아래 실행 결과를 내는 코드를 작성하세요\n",
        "\n",
        "\n",
        "```{.no-highlight}\n",
        "-------\n",
        "start!\n",
        "-------\n",
        "It's apple\n",
        "-------\n",
        "It's blue\n",
        "-------\n",
        "It's cup\n",
        "-------\n",
        "It's door\n",
        "end!\n",
        "-------\n",
        "```"
      ],
      "metadata": {
        "id": "_4sajqBiH7Ws"
      }
    },
    {
      "cell_type": "code",
      "source": [
        "print('-------')\n",
        "print('start!')\n",
        "for i in my_list:\n",
        "  print('-------')\n",
        "  print(f\"It's {i}\")\n",
        "print('end!')\n",
        "print('-------')  "
      ],
      "metadata": {
        "id": "JbjKVMsxH96v",
        "colab": {
          "base_uri": "https://localhost:8080/"
        },
        "outputId": "7da208db-9f65-485f-d945-859c19d8d45b"
      },
      "execution_count": 24,
      "outputs": [
        {
          "output_type": "stream",
          "name": "stdout",
          "text": [
            "-------\n",
            "start!\n",
            "-------\n",
            "It's apple\n",
            "-------\n",
            "It's blue\n",
            "-------\n",
            "It's cup\n",
            "-------\n",
            "It's door\n",
            "end!\n",
            "-------\n"
          ]
        }
      ]
    },
    {
      "cell_type": "markdown",
      "source": [
        "\n",
        "**예제 05** \n",
        "\n",
        "아래 실행 결과를 내는 코드를 작성하세요\n",
        "\n",
        "```{.no-highlight}\n",
        "a is apple\n",
        "-------\n",
        "b is blue\n",
        "-------\n",
        "c is cup\n",
        "-------\n",
        "d is door\n",
        "-------\n",
        "```"
      ],
      "metadata": {
        "id": "pmWXw1f7H_-0"
      }
    },
    {
      "cell_type": "code",
      "source": [
        "for i in range(4):\n",
        "  print(\"It's\", my_list[i])\n",
        "  if i < 0: continue\n",
        "  print(\"-------\")\n",
        "  "
      ],
      "metadata": {
        "id": "ANwJwi6QIBWc",
        "colab": {
          "base_uri": "https://localhost:8080/"
        },
        "outputId": "b1578569-8e53-420a-8040-2ef09a5c2743"
      },
      "execution_count": null,
      "outputs": [
        {
          "output_type": "stream",
          "name": "stdout",
          "text": [
            "It's apple\n",
            "-------\n",
            "It's blue\n",
            "-------\n",
            "It's cup\n",
            "-------\n",
            "It's door\n",
            "-------\n"
          ]
        }
      ]
    },
    {
      "cell_type": "markdown",
      "source": [
        "**예제 06** \n",
        "\n",
        "아래 실행 결과를 내는 코드를 작성하세요\n",
        "\n",
        "```{.no-highlight}\n",
        "Apple\n",
        "Blue\n",
        "Cup\n",
        "Door\n",
        "```\n"
      ],
      "metadata": {
        "id": "I8ykoYNGICPR"
      }
    },
    {
      "cell_type": "code",
      "source": [
        "for i in range(4) :\n",
        "  print(my_list[i].capitalize())"
      ],
      "metadata": {
        "id": "VJrCVewYIDR2",
        "colab": {
          "base_uri": "https://localhost:8080/"
        },
        "outputId": "084c080f-a369-4a3b-9099-620435f14e9a"
      },
      "execution_count": null,
      "outputs": [
        {
          "output_type": "stream",
          "name": "stdout",
          "text": [
            "Apple\n",
            "Blue\n",
            "Cup\n",
            "Door\n"
          ]
        }
      ]
    },
    {
      "cell_type": "markdown",
      "source": [
        "\n",
        "**예제 07** \n",
        "\n",
        "아래 실행 결과를 내는 코드를 작성하세요\n",
        "\n",
        "```{.no-highlight}\n",
        "Apple len: 5 \n",
        "Blue len: 4\n",
        "Cup len: 3\n",
        "Door len: 4\n",
        "```\n"
      ],
      "metadata": {
        "id": "NxTLfkw2IEZp"
      }
    },
    {
      "cell_type": "code",
      "source": [
        "for i in range(4) : \n",
        "  print(f\"{my_list[i].capitalize()} len : {len(my_list[i])}\")"
      ],
      "metadata": {
        "id": "M1xP6KMNIFhX",
        "colab": {
          "base_uri": "https://localhost:8080/"
        },
        "outputId": "ab097b9b-df91-4704-b5dc-0e00b18a12b5"
      },
      "execution_count": null,
      "outputs": [
        {
          "output_type": "stream",
          "name": "stdout",
          "text": [
            "Apple len : 5\n",
            "Blue len : 4\n",
            "Cup len : 3\n",
            "Door len : 4\n"
          ]
        }
      ]
    },
    {
      "cell_type": "markdown",
      "source": [
        "**예제 08** \n",
        "\n",
        "아래 실행 결과를 내는 코드를 작성하세요\n",
        "\n",
        "```{.no-highlight}\n",
        "0. apple  \n",
        "1. blue \n",
        "2. cup \n",
        "3. door \n",
        "```"
      ],
      "metadata": {
        "id": "dEYLHxsyIGXV"
      }
    },
    {
      "cell_type": "code",
      "source": [
        "for i in range(4) : \n",
        "  print(f\"{i}. {my_list[i]}\")"
      ],
      "metadata": {
        "id": "O-I1qZJbIHEs",
        "colab": {
          "base_uri": "https://localhost:8080/"
        },
        "outputId": "5cca2a74-84d7-4692-8500-64acbb9ec9a0"
      },
      "execution_count": null,
      "outputs": [
        {
          "output_type": "stream",
          "name": "stdout",
          "text": [
            "0. apple\n",
            "1. blue\n",
            "2. cup\n",
            "3. door\n"
          ]
        }
      ]
    },
    {
      "cell_type": "markdown",
      "source": [
        "**예제 09** \n",
        "\n",
        "아래 실행 결과를 내는 코드를 작성하세요\n",
        "\n",
        "```{.no-highlight}\n",
        "00. apple  \n",
        "01. blue \n",
        "02. cup \n",
        "03. door \n",
        "```"
      ],
      "metadata": {
        "id": "93edVmbzIIFF"
      }
    },
    {
      "cell_type": "code",
      "source": [
        "for i in range(4) : \n",
        "  print(f\"0{i}. {my_list[i]}\")"
      ],
      "metadata": {
        "id": "SM4OXF9EIIzt",
        "colab": {
          "base_uri": "https://localhost:8080/"
        },
        "outputId": "795c6a9b-eb3e-492c-c921-2d2af6f18f72"
      },
      "execution_count": null,
      "outputs": [
        {
          "output_type": "stream",
          "name": "stdout",
          "text": [
            "00. apple\n",
            "01. blue\n",
            "02. cup\n",
            "03. door\n"
          ]
        }
      ]
    },
    {
      "cell_type": "markdown",
      "source": [
        "**예제 10** \n",
        "\n",
        "`my_list2`가 다음과 같이 주어졌을 때 위에서 정의한 `my_list`와 `my_list2`를 이용하여 아래와 같은 결과를 내는 코드를 작성하세요\n",
        "\n",
        "```\n",
        "my_list2 = [\"red\",\"corona\",\"mug\",\"open\"]\n",
        "```\n",
        "\n",
        "```\n",
        "Red apple\n",
        "Corona blue\n",
        "Mug cup\n",
        "Open door\n",
        "```\n"
      ],
      "metadata": {
        "id": "LtypkJvFIJ4E"
      }
    },
    {
      "cell_type": "code",
      "source": [
        "my_list2 = [\"red\",\"corona\",\"mug\",\"open\"]\n",
        "for i in range(4) : \n",
        "  print(f\"{my_list2[i].capitalize()} {my_list[i]}\")"
      ],
      "metadata": {
        "id": "Vmyf0AiaIKYl",
        "colab": {
          "base_uri": "https://localhost:8080/"
        },
        "outputId": "74ea77b1-ab2c-4dbe-fd9c-a71ecc35d50d"
      },
      "execution_count": null,
      "outputs": [
        {
          "output_type": "stream",
          "name": "stdout",
          "text": [
            "Red apple\n",
            "Corona blue\n",
            "Mug cup\n",
            "Open door\n"
          ]
        }
      ]
    },
    {
      "cell_type": "markdown",
      "source": [
        "**예제 11** \n",
        "\n",
        "구구단을 호출하는 함수를 만드세요\n",
        "\n",
        "\n",
        "```\n",
        ">> gugudan(5)\n",
        "5 * 1 = 5\n",
        "5 * 2 = 10\n",
        "5 * 3 = 15\n",
        "5 * 4 = 20\n",
        "5 * 5 = 25\n",
        "5 * 6 = 30\n",
        "5 * 7 = 35\n",
        "5 * 8 = 40\n",
        "5 * 9 = 45\n",
        "```\n"
      ],
      "metadata": {
        "id": "ts1p9xkqKJPL"
      }
    },
    {
      "cell_type": "code",
      "source": [
        "def gugudan(a) : \n",
        "  for i in range(1, 10):\n",
        "    print(f\"{a} * {i} = {a * i}\")\n",
        "\n",
        "gugudan(2)\n",
        "gugudan(9)"
      ],
      "metadata": {
        "id": "dOjMwO7TKNH1",
        "colab": {
          "base_uri": "https://localhost:8080/"
        },
        "outputId": "784f5735-c2a1-4ec7-f119-5bebf32f0ada"
      },
      "execution_count": null,
      "outputs": [
        {
          "output_type": "stream",
          "name": "stdout",
          "text": [
            "2 * 1 = 2\n",
            "2 * 2 = 4\n",
            "2 * 3 = 6\n",
            "2 * 4 = 8\n",
            "2 * 5 = 10\n",
            "2 * 6 = 12\n",
            "2 * 7 = 14\n",
            "2 * 8 = 16\n",
            "2 * 9 = 18\n",
            "9 * 1 = 9\n",
            "9 * 2 = 18\n",
            "9 * 3 = 27\n",
            "9 * 4 = 36\n",
            "9 * 5 = 45\n",
            "9 * 6 = 54\n",
            "9 * 7 = 63\n",
            "9 * 8 = 72\n",
            "9 * 9 = 81\n"
          ]
        }
      ]
    },
    {
      "cell_type": "markdown",
      "source": [
        "**예제 12** \n",
        "\n",
        "이중 for문을 이용하여 아래와 똑같이 출력하는 코드를 작성하세요\n",
        "\n",
        "```{.no-highlight}\n",
        "1 2 3 4 5 6 7 8 9 10\n",
        "1 2 3 4 5 6 7 8 9 10\n",
        "1 2 3 4 5 6 7 8 9 10\n",
        "1 2 3 4 5 6 7 8 9 10\n",
        "1 2 3 4 5 6 7 8 9 10 \n",
        "1 2 3 4 5 6 7 8 9 10 \n",
        "1 2 3 4 5 6 7 8 9 10\n",
        "```\n"
      ],
      "metadata": {
        "id": "T9gPPxKVKOYL"
      }
    },
    {
      "cell_type": "code",
      "source": [
        "for i in range(6):\n",
        "    for j in range(1, 11):        \n",
        "        print(j, end=\" \")\n",
        "    print()"
      ],
      "metadata": {
        "id": "25gRJZvaKPT0",
        "colab": {
          "base_uri": "https://localhost:8080/"
        },
        "outputId": "099df1b1-2f48-44f9-f073-ad3112b44159"
      },
      "execution_count": null,
      "outputs": [
        {
          "output_type": "stream",
          "name": "stdout",
          "text": [
            "1 2 3 4 5 6 7 8 9 10 \n",
            "1 2 3 4 5 6 7 8 9 10 \n",
            "1 2 3 4 5 6 7 8 9 10 \n",
            "1 2 3 4 5 6 7 8 9 10 \n",
            "1 2 3 4 5 6 7 8 9 10 \n",
            "1 2 3 4 5 6 7 8 9 10 \n"
          ]
        }
      ]
    },
    {
      "cell_type": "markdown",
      "source": [
        "**예제 13** \n",
        "\n",
        "이중 for문을 이용하여 아래와 똑같이 출력하는 코드를 작성하세요\n",
        "\n",
        "```{.no-highlight}\n",
        "1 2 3 4 5 6 \n",
        "1 2 3 4 5 6 \n",
        "1 2 3 4 5 6 \n",
        "1 2 3 4 5 6 \n",
        "1 2 3 4 5 6 \n",
        "1 2 3 4 5 6 \n",
        "1 2 3 4 5 6 \n",
        "```\n"
      ],
      "metadata": {
        "id": "4rEKTyo7QLUM"
      }
    },
    {
      "cell_type": "code",
      "source": [
        "for i in range(6):\n",
        "    for j in range(1, 7):        \n",
        "        print(j, end=\" \")\n",
        "    print()"
      ],
      "metadata": {
        "id": "Tp4yC8fjQLUR",
        "colab": {
          "base_uri": "https://localhost:8080/"
        },
        "outputId": "bbb2a427-9235-41c3-beb4-136f6bbc9445"
      },
      "execution_count": null,
      "outputs": [
        {
          "output_type": "stream",
          "name": "stdout",
          "text": [
            "1 2 3 4 5 6 \n",
            "1 2 3 4 5 6 \n",
            "1 2 3 4 5 6 \n",
            "1 2 3 4 5 6 \n",
            "1 2 3 4 5 6 \n",
            "1 2 3 4 5 6 \n"
          ]
        }
      ]
    },
    {
      "cell_type": "markdown",
      "source": [
        "**예제 14** \n",
        "\n",
        "아래와 똑같이 출력하는 코드를 작성하세요\n",
        "\n",
        "```{.no-highlight}\n",
        "2 4 6 8 10 \n",
        "1 3 5 7 9\n",
        "2 4 6 8 10 \n",
        "1 3 5 7 9\n",
        "2 4 6 8 10 \n",
        "1 3 5 7 9\n",
        "2 4 6 8 10 \n",
        "1 3 5 7 9\n",
        "2 4 6 8 10 \n",
        "1 3 5 7 9\n",
        "```\n"
      ],
      "metadata": {
        "id": "9JLqJX-qQS6N"
      }
    },
    {
      "cell_type": "code",
      "source": [
        "for i in range(6):\n",
        "    for j in range(1, 11,2):        \n",
        "        print(j, end=\" \") # 어찌하누...\n",
        "    \n",
        "    print()"
      ],
      "metadata": {
        "id": "PlZNTmyhQS6O",
        "colab": {
          "base_uri": "https://localhost:8080/"
        },
        "outputId": "1a974e8f-d3b8-4446-cd61-d532a5b40a9d"
      },
      "execution_count": null,
      "outputs": [
        {
          "output_type": "stream",
          "name": "stdout",
          "text": [
            "1 3 5 7 9 2 4 6 8 10 \n",
            "1 3 5 7 9 2 4 6 8 10 \n",
            "1 3 5 7 9 2 4 6 8 10 \n",
            "1 3 5 7 9 2 4 6 8 10 \n",
            "1 3 5 7 9 2 4 6 8 10 \n",
            "1 3 5 7 9 2 4 6 8 10 \n"
          ]
        }
      ]
    },
    {
      "cell_type": "markdown",
      "source": [
        "**예제 15** \n",
        "\n",
        "for문을 이용하여 아래와 똑같이 출력하는 코드를 작성하세요\n",
        "\n",
        "```{.no-highlight}\n",
        "         *\n",
        "        **\n",
        "       ***\n",
        "      ****\n",
        "     *****\n",
        "    ******\n",
        "   *******\n",
        "  ********\n",
        " *********\n",
        "**********\n",
        "```\n"
      ],
      "metadata": {
        "id": "WsRXZCzzKQuI"
      }
    },
    {
      "cell_type": "code",
      "source": [
        "for i in range(1, 10):\n",
        "  for j in range(10-i):\n",
        "    print(\" \", end=\"\")\n",
        "  for j in range(i):\n",
        "    print(\"*\",end=\"\")\n",
        "  print()"
      ],
      "metadata": {
        "id": "uhVOEfvjKRpA",
        "colab": {
          "base_uri": "https://localhost:8080/"
        },
        "outputId": "f8ca7f34-b677-4de1-ffc3-3944108575e2"
      },
      "execution_count": null,
      "outputs": [
        {
          "output_type": "stream",
          "name": "stdout",
          "text": [
            "         *\n",
            "        **\n",
            "       ***\n",
            "      ****\n",
            "     *****\n",
            "    ******\n",
            "   *******\n",
            "  ********\n",
            " *********\n"
          ]
        }
      ]
    },
    {
      "cell_type": "markdown",
      "source": [
        "\n",
        "**예제 16** \n",
        "\n",
        "이중 for문을 이용하여 아래와 똑같이 출력하는 코드를 작성하세요.\n",
        "\n",
        "```{.no-highlight}\n",
        "           #\n",
        "           *\n",
        "          ***\n",
        "         *****\n",
        "        *******\n",
        "       *********\n",
        "      ***********\n",
        "     *************\n",
        "    ***************\n",
        "   *****************\n",
        "  -------------------\n",
        "  *******************\n",
        "    MARRY CHRISTMAS !\n",
        "```\n"
      ],
      "metadata": {
        "id": "ZDNCXYGRKSoK"
      }
    },
    {
      "cell_type": "code",
      "source": [
        "print(\" \" * 8, \"#\")\n",
        "for i in range(1,21,2) :\n",
        "  print(\" \" * ((20-i)//2), end = \"\")\n",
        "  if i == 19 :\n",
        "    print(\"-\"*19)\n",
        "  for j in range(i):\n",
        "    print(\"*\",end=\"\")\n",
        "  print()\n",
        "print(\"MERRY CHRISTMAS !\") # 봐도 잘 모르겠음."
      ],
      "metadata": {
        "id": "whjpiD-ZKTkc",
        "colab": {
          "base_uri": "https://localhost:8080/"
        },
        "outputId": "cb8d1d88-198c-4704-a165-50fd0f080117"
      },
      "execution_count": 31,
      "outputs": [
        {
          "output_type": "stream",
          "name": "stdout",
          "text": [
            "         #\n",
            "         *\n",
            "        ***\n",
            "       *****\n",
            "      *******\n",
            "     *********\n",
            "    ***********\n",
            "   *************\n",
            "  ***************\n",
            " *****************\n",
            "-------------------\n",
            "*******************\n",
            "MERRY CHRISTMAS !\n"
          ]
        }
      ]
    },
    {
      "cell_type": "markdown",
      "source": [
        "**[정의] 17~22**\n",
        "\n",
        "`apartment`가  다음과 같이 주어져 있습니다. \n",
        "```\n",
        "apartment = [ [201, 202, 203], [301, 302, 303], [401, 402, 403] ]\n",
        "```\n"
      ],
      "metadata": {
        "id": "uS3__jM6KUcG"
      }
    },
    {
      "cell_type": "code",
      "source": [
        "apartment = [ [201, 202, 203], [301, 302, 303], [401, 402, 403] ]"
      ],
      "metadata": {
        "id": "MxQ_LG-9NiDb"
      },
      "execution_count": 63,
      "outputs": []
    },
    {
      "cell_type": "markdown",
      "source": [
        "**예제 17** \n",
        "\n",
        "아래와 같은 결과를 출력하는 코드를 `for문`과 `range`를 이용해 작성하세요\n",
        "\n",
        "```{.no-highlight}\n",
        "201 호 \n",
        "301 호 \n",
        "401 호\n",
        "```\n"
      ],
      "metadata": {
        "id": "1i9-8K7aNKeG"
      }
    },
    {
      "cell_type": "code",
      "source": [
        "for i in apartment:\n",
        "  print(f'{i[0]} 호')\n",
        "  "
      ],
      "metadata": {
        "id": "XWKIxb2-KWVe",
        "colab": {
          "base_uri": "https://localhost:8080/"
        },
        "outputId": "6a865013-c68a-45e5-ef02-74005507ced1"
      },
      "execution_count": 64,
      "outputs": [
        {
          "output_type": "stream",
          "name": "stdout",
          "text": [
            "201 호\n",
            "301 호\n",
            "401 호\n"
          ]
        }
      ]
    },
    {
      "cell_type": "markdown",
      "source": [
        "\n",
        "**예제 18** \n",
        "\n",
        "아래와 같은 결과를 출력하는 코드를 `for문`과 `range`를 이용해 작성하세요\n",
        "\n",
        "\n",
        "```{.no-highlight}\n",
        "203 호 \n",
        "303 호 \n",
        "403 호\n",
        "```\n"
      ],
      "metadata": {
        "id": "XNWuysbqNBDo"
      }
    },
    {
      "cell_type": "code",
      "source": [
        "for i in apartment:\n",
        "  print(f'{i[-1]} 호')\n",
        "\n",
        "for i in range(len(apartment)):\n",
        "  print(f'{apartment[i][2]} 호')"
      ],
      "metadata": {
        "id": "lUmfgJwkNDEc",
        "colab": {
          "base_uri": "https://localhost:8080/"
        },
        "outputId": "425ff86d-fafe-4f5e-dde4-b214a092c221"
      },
      "execution_count": 65,
      "outputs": [
        {
          "output_type": "stream",
          "name": "stdout",
          "text": [
            "203 호\n",
            "303 호\n",
            "403 호\n",
            "203 호\n",
            "303 호\n",
            "403 호\n"
          ]
        }
      ]
    },
    {
      "cell_type": "markdown",
      "source": [
        "**예제 19** \n",
        "\n",
        "아래와 같은 결과를 출력하는 코드를 `for문`과 `range`를 이용해 작성하세요\n",
        "\n",
        "\n",
        "```{.no-highlight}\n",
        "402 호 \n",
        "302 호 \n",
        "202 호 \n",
        "```\n"
      ],
      "metadata": {
        "id": "UR9FqS84NO7w"
      }
    },
    {
      "cell_type": "code",
      "source": [
        "\n",
        "\n",
        "for i in range(len(apartment)):\n",
        "  print(f'{apartment[-(i+1)][1]} 호')\n"
      ],
      "metadata": {
        "id": "lWTZMYfLNRxy",
        "colab": {
          "base_uri": "https://localhost:8080/"
        },
        "outputId": "2b9cb275-9df9-4fc6-80e9-4f367229cb5d"
      },
      "execution_count": 66,
      "outputs": [
        {
          "output_type": "stream",
          "name": "stdout",
          "text": [
            "402 호\n",
            "302 호\n",
            "202 호\n"
          ]
        }
      ]
    },
    {
      "cell_type": "markdown",
      "source": [
        "**예제 20** \n",
        "\n",
        "아래와 같은 결과를 출력하는 코드를 `for문`과 `range`를 이용해 작성하세요\n",
        "\n",
        "```{.no-highlight}\n",
        "201 호 옆집은 202 호\n",
        "301 호 옆집은 302 호\n",
        "401 호 옆집은 402 호\n",
        "```\n"
      ],
      "metadata": {
        "id": "DgUcIZAxNTTm"
      }
    },
    {
      "cell_type": "code",
      "source": [
        "for i in range(len(apartment)):\n",
        "  print(f\"{apartment[i][0]} 호 옆 집은 {apartment[i][1]} 호\")"
      ],
      "metadata": {
        "id": "WgGC6KnONWkO",
        "colab": {
          "base_uri": "https://localhost:8080/"
        },
        "outputId": "c49134d6-f55b-46f3-d9dc-aba3c803ca9c"
      },
      "execution_count": 69,
      "outputs": [
        {
          "output_type": "stream",
          "name": "stdout",
          "text": [
            "201 호 옆 집은 202 호\n",
            "301 호 옆 집은 302 호\n",
            "401 호 옆 집은 402 호\n"
          ]
        }
      ]
    },
    {
      "cell_type": "markdown",
      "source": [
        "\n",
        "**예제 21** \n",
        "\n",
        "아래와 같은 결과를 출력하는 코드를 `for문`과 `range`를 이용해 작성하세요\n",
        "\n",
        "```{.no-highlight}\n",
        "201 호 윗층은 301 호 윗층은 401호\n",
        "202 호 윗층은 302 호 윗층은 402호\n",
        "203 호 윗층은 303 호 윗층은 403호\n",
        "```\n"
      ],
      "metadata": {
        "id": "UpeuvLh8NYEi"
      }
    },
    {
      "cell_type": "code",
      "source": [
        "for i in range(len(apartment)):\n",
        "  print(f'{apartment[0][i]} 호 윗층은 {apartment[(1)][i]}호 윗층은 {apartment[(2)][i]}호')"
      ],
      "metadata": {
        "id": "X473dVz5NbIW",
        "colab": {
          "base_uri": "https://localhost:8080/"
        },
        "outputId": "a5a917bc-4c15-4810-bf1b-4449f3d1f937"
      },
      "execution_count": 87,
      "outputs": [
        {
          "output_type": "stream",
          "name": "stdout",
          "text": [
            "201 호 윗층은 301호 윗층은 401호\n",
            "202 호 윗층은 302호 윗층은 402호\n",
            "203 호 윗층은 303호 윗층은 403호\n"
          ]
        }
      ]
    },
    {
      "cell_type": "markdown",
      "source": [
        "**예제 22** \n",
        "\n",
        "아래와 같은 결과를 출력하는 코드를 `for문`과 `range`를 이용해 작성하세요\n",
        "\n",
        "\n",
        "```{.no-highlight}\n",
        "201 호 \n",
        "202 호\n",
        "203 호\n",
        "301 호\n",
        "302 호\n",
        "303 호\n",
        "401 호 \n",
        "402 호\n",
        "403 호\n",
        "```"
      ],
      "metadata": {
        "id": "sEoNppGDNcdX"
      }
    },
    {
      "cell_type": "code",
      "source": [
        "for i in range(len(apartment)):\n",
        "  for j in range(len(apartment[i])):\n",
        "    print(f'{apartment[i][j]} 호')"
      ],
      "metadata": {
        "id": "YAtaBHGkNekE",
        "colab": {
          "base_uri": "https://localhost:8080/"
        },
        "outputId": "0da28dec-1310-4dfa-a197-3b35f54675f8"
      },
      "execution_count": 101,
      "outputs": [
        {
          "output_type": "stream",
          "name": "stdout",
          "text": [
            "201 호\n",
            "202 호\n",
            "203 호\n",
            "301 호\n",
            "302 호\n",
            "303 호\n",
            "401 호\n",
            "402 호\n",
            "403 호\n"
          ]
        }
      ]
    },
    {
      "cell_type": "markdown",
      "source": [
        "**예제 23** \n",
        "\n",
        "1, 4, 7, 10, 13 ... 31 을 `for문`과 `range`를 이용해서 출력하세요\n"
      ],
      "metadata": {
        "id": "viZj-9fZNfeh"
      }
    },
    {
      "cell_type": "code",
      "source": [
        "\n",
        "for i in range(1,32,3):\n",
        "  if i <= 30 :\n",
        "    print(f\"{i},\",end = \" \")\n",
        "  if i == 31 :\n",
        "    print(f\"{(i)}\",end=\"\")\n",
        "  \n"
      ],
      "metadata": {
        "id": "c8vZWw5kNfrU",
        "colab": {
          "base_uri": "https://localhost:8080/"
        },
        "outputId": "beb13e50-4ab4-4c35-cd3c-d4d6c36b2d0b"
      },
      "execution_count": 140,
      "outputs": [
        {
          "output_type": "stream",
          "name": "stdout",
          "text": [
            "1, 4, 7, 10, 13, 16, 19, 22, 25, 28, 31"
          ]
        }
      ]
    },
    {
      "cell_type": "markdown",
      "source": [
        "**예제 24** \n",
        "\n",
        "아래와 같이 n을 인풋으로 하면 1부터 n까지 더한 값을 출력하는 함수 `add_nums(n)`를 만드세요\n",
        "\n",
        "\n",
        "```\n",
        ">> add_nums_line(5)\n",
        "1\n",
        "3\n",
        "6\n",
        "10\n",
        "15\n",
        "```\n"
      ],
      "metadata": {
        "id": "j3SEY_qcNgro"
      }
    },
    {
      "cell_type": "code",
      "source": [
        "def addnums(n) : \n",
        "  n_sum = 0\n",
        "  for i in range(1, n+1) :\n",
        "    n_sum += i\n",
        "    print(n_sum)\n",
        "addnums(5)\n"
      ],
      "metadata": {
        "id": "cQpQuNFTNg1s",
        "colab": {
          "base_uri": "https://localhost:8080/"
        },
        "outputId": "42c77fff-e97e-4064-a231-3139fe6229fd"
      },
      "execution_count": 146,
      "outputs": [
        {
          "output_type": "stream",
          "name": "stdout",
          "text": [
            "1\n",
            "3\n",
            "6\n",
            "10\n",
            "15\n"
          ]
        }
      ]
    },
    {
      "cell_type": "markdown",
      "source": [
        "**[정의] 25~28**\n",
        "\n",
        "`num_list`가 아래와 같이 정의되어 있습니다. \n",
        "\n",
        "```\n",
        "num_list = [0,2,3,5,6,12,15,17,18,23,25,27,45,47,48,53,57,58,59,60,63,64,68,72,75,79,86,93,96,99,100]\n",
        "```"
      ],
      "metadata": {
        "id": "fcoUNSiXNqjr"
      }
    },
    {
      "cell_type": "code",
      "source": [
        "num_list = [0,2,3,5,6,12,15,17,18,23,25,27,45,47,48,53,57,58,59,60,63,64,68,72,75,79,86,93,96,99,100]"
      ],
      "metadata": {
        "id": "VQnWtngfNqvM"
      },
      "execution_count": 147,
      "outputs": []
    },
    {
      "cell_type": "markdown",
      "source": [
        "**예제 25**\n",
        "\n",
        "`num_list` 중 4의 배수만 출력하세요\n"
      ],
      "metadata": {
        "id": "pq1r8LqKNvCB"
      }
    },
    {
      "cell_type": "code",
      "source": [
        "for i in num_list :\n",
        "  if i%4==0 and i > 0 :\n",
        "    print(i)"
      ],
      "metadata": {
        "id": "yPjF8T57Nxd1",
        "colab": {
          "base_uri": "https://localhost:8080/"
        },
        "outputId": "8753d1b2-a381-4e77-9b23-76aa442fa468"
      },
      "execution_count": 151,
      "outputs": [
        {
          "output_type": "stream",
          "name": "stdout",
          "text": [
            "12\n",
            "48\n",
            "60\n",
            "64\n",
            "68\n",
            "72\n",
            "96\n",
            "100\n"
          ]
        }
      ]
    },
    {
      "cell_type": "markdown",
      "source": [
        "\n",
        "**예제 26** \n",
        "\n",
        "`num_list` 중 50 이하인 5의 배수만 출력하세요\n",
        "\n"
      ],
      "metadata": {
        "id": "1jktkqlVNzAt"
      }
    },
    {
      "cell_type": "code",
      "source": [
        "for i in num_list :\n",
        "  if i%5==0 and i < 50 and i > 0 :\n",
        "    print(i)"
      ],
      "metadata": {
        "id": "D8iepJF8N0kc",
        "colab": {
          "base_uri": "https://localhost:8080/"
        },
        "outputId": "12867ac2-9c5d-4722-9dca-8ed77a7abc2d"
      },
      "execution_count": 154,
      "outputs": [
        {
          "output_type": "stream",
          "name": "stdout",
          "text": [
            "5\n",
            "15\n",
            "25\n",
            "45\n"
          ]
        }
      ]
    },
    {
      "cell_type": "markdown",
      "source": [
        "**예제 27** \n",
        "\n",
        "`num_list` 중 각 자리수를 더해서 10이 넘는 숫자만 출력하세요\n"
      ],
      "metadata": {
        "id": "7ZhV5ExNN1ai"
      }
    },
    {
      "cell_type": "code",
      "source": [
        "for i in num_list:\n",
        "  if (i//10 + i%10) > 10:\n",
        "    print(i)"
      ],
      "metadata": {
        "id": "cQAChnLFN26k",
        "colab": {
          "base_uri": "https://localhost:8080/"
        },
        "outputId": "4c647998-1e85-4f0b-eee7-789a57ad4a9e"
      },
      "execution_count": 156,
      "outputs": [
        {
          "output_type": "stream",
          "name": "stdout",
          "text": [
            "47\n",
            "48\n",
            "57\n",
            "58\n",
            "59\n",
            "68\n",
            "75\n",
            "79\n",
            "86\n",
            "93\n",
            "96\n",
            "99\n"
          ]
        }
      ]
    },
    {
      "cell_type": "markdown",
      "source": [
        "**예제 28** \n",
        "\n",
        "`num_list` 중 가장 작은 7의 배수를 찾으세요. (hint: `break`을 반드시 포함하세요)\n"
      ],
      "metadata": {
        "id": "uCoRYjMoN4Js"
      }
    },
    {
      "cell_type": "code",
      "source": [
        "for i in num_list : \n",
        "  if i % 7 == 0 and i > 0 :\n",
        "    print(i)\n",
        "    break "
      ],
      "metadata": {
        "id": "Cwox2wbDN6B9",
        "colab": {
          "base_uri": "https://localhost:8080/"
        },
        "outputId": "949f4865-4de3-4114-9c87-1e5d945d5b06"
      },
      "execution_count": 157,
      "outputs": [
        {
          "output_type": "stream",
          "name": "stdout",
          "text": [
            "63\n"
          ]
        }
      ]
    },
    {
      "cell_type": "markdown",
      "source": [
        "**예제 29** \n",
        "\n",
        "학생들의 번호와 점수가 딕셔너리에 아래와 같이 저장되어 있습니다. 전산 실수로 인해 점수가 실제 점수보다 10점이 깍인것을 발견했습니다. 점수를 모두 10점씩 올리세요\n",
        "\n",
        "```\n",
        "st_scores = {1:80, 2:55, 3:80, 4:35, 5:75, 6: 80, 7:40, 8: 90, 9:55, 10:20}\n",
        "```\n"
      ],
      "metadata": {
        "id": "AYVG1GMfN7A7"
      }
    },
    {
      "cell_type": "code",
      "source": [
        "st_scores = {1:80, 2:55, 3:80, 4:35, 5:75, 6: 80, 7:40, 8: 90, 9:55, 10:20}\n",
        "\n",
        "st_scores = {k:v+10 for k, v in st_scores.items()}\n",
        "st_scores\n",
        "     "
      ],
      "metadata": {
        "id": "3eRFw6f7N7SD",
        "colab": {
          "base_uri": "https://localhost:8080/"
        },
        "outputId": "a42da8cd-476b-4473-e0dc-f1a114b2c6d5"
      },
      "execution_count": 159,
      "outputs": [
        {
          "output_type": "execute_result",
          "data": {
            "text/plain": [
              "{1: 90, 2: 65, 3: 90, 4: 45, 5: 85, 6: 90, 7: 50, 8: 100, 9: 65, 10: 30}"
            ]
          },
          "metadata": {},
          "execution_count": 159
        }
      ]
    },
    {
      "cell_type": "markdown",
      "source": [
        "\n",
        "**예제 30** \n",
        "\n",
        "60점 미만인 학생들에게 \"재평가가 실시될 예정입니다.\", 90점 이상인 학생들에게 \"우수장학금이 지급됩니다.\"를 출력하는 코드를 작성하세요. 단, 코드내에 continue를 반드시 포함하세요\n"
      ],
      "metadata": {
        "id": "o-QPq1PEN8SL"
      }
    },
    {
      "cell_type": "code",
      "source": [
        "for n, score in st_scores.items():\n",
        "  if 60 <= score <90: continue\n",
        "  \n",
        "  if score<60:\n",
        "    print(f'{n}번 학생 재평가가 실시될 예정입니다.')\n",
        "  else:\n",
        "    print(f'{n}번 우수장학금이 지급됩니다.') "
      ],
      "metadata": {
        "id": "IZESB5EJN8wb",
        "colab": {
          "base_uri": "https://localhost:8080/"
        },
        "outputId": "2ce00508-8f67-4f32-fb9a-1e3eb2b36dad"
      },
      "execution_count": 160,
      "outputs": [
        {
          "output_type": "stream",
          "name": "stdout",
          "text": [
            "1번 우수장학금이 지급됩니다.\n",
            "3번 우수장학금이 지급됩니다.\n",
            "4번 학생 재평가가 실시될 예정입니다.\n",
            "6번 우수장학금이 지급됩니다.\n",
            "7번 학생 재평가가 실시될 예정입니다.\n",
            "8번 우수장학금이 지급됩니다.\n",
            "10번 학생 재평가가 실시될 예정입니다.\n"
          ]
        }
      ]
    },
    {
      "cell_type": "markdown",
      "source": [
        "**[정의] 31~33**\n",
        "\n",
        "아래와 같이 물건의 이름과 가격이 적힌 딕셔너리가 있습니다. \n",
        "```\n",
        "mart = {'a': ['apple', 1000], 'b': ['beer', 1200] , 'c' : ['cherry', 2000], 'd':['donut', 1500], 'e': ['egg', 500], 'f' : ['fish', 3000] }\n",
        "```"
      ],
      "metadata": {
        "id": "h_SXbGKc5PT0"
      }
    },
    {
      "cell_type": "code",
      "source": [
        "mart = {'a': ['apple', 1000], 'b': ['beer', 1200] , 'c' : ['cherry', 2000], 'd':['donut', 1500], 'e': ['egg', 500], 'f' : ['fish', 3000] }"
      ],
      "metadata": {
        "id": "YM87Yqe88TUc"
      },
      "execution_count": 161,
      "outputs": []
    },
    {
      "cell_type": "markdown",
      "source": [
        "**예제 31**\n",
        "\n",
        "가장 저렴한 값을 구하는 코드를 `map`과 `lambda`를 사용하지 않고 `for`문을 이용해 한줄로 작성하세요.\n"
      ],
      "metadata": {
        "id": "gmuKcuaw8UVN"
      }
    },
    {
      "cell_type": "code",
      "source": [
        "min([x[1] for x in mart.values()])"
      ],
      "metadata": {
        "id": "mRmXH7jT56SD",
        "colab": {
          "base_uri": "https://localhost:8080/"
        },
        "outputId": "bbe06655-291f-4b98-e30c-b166387b9f6c"
      },
      "execution_count": 162,
      "outputs": [
        {
          "output_type": "execute_result",
          "data": {
            "text/plain": [
              "500"
            ]
          },
          "metadata": {},
          "execution_count": 162
        }
      ]
    },
    {
      "cell_type": "markdown",
      "source": [
        "**예제 32**\n",
        "\n",
        "가격의 평균을 구하는 코드를 `map`과 `lambda`를 사용하지 않고 `for`문을 이용해 한줄로 작성하세요.\n"
      ],
      "metadata": {
        "id": "fotQGh2f8iIN"
      }
    },
    {
      "cell_type": "code",
      "source": [
        "sum([x[1] for x in mart.values()])/len(mart.values())"
      ],
      "metadata": {
        "id": "8ATN4dmV6cc7",
        "colab": {
          "base_uri": "https://localhost:8080/"
        },
        "outputId": "8d8b9085-dbd8-49b5-c387-7981e4786229"
      },
      "execution_count": 163,
      "outputs": [
        {
          "output_type": "execute_result",
          "data": {
            "text/plain": [
              "1533.3333333333333"
            ]
          },
          "metadata": {},
          "execution_count": 163
        }
      ]
    },
    {
      "cell_type": "markdown",
      "source": [
        "**예제 33**\n",
        "\n",
        "다음과 같은 출력을 하는 코드를  `for`문을 이용해 한줄로 작성하세요.\n",
        "가능하다면 코드 한줄로 작성해 보세요.\n",
        "\n",
        "```\n",
        "a is apple, b is beer, c is cherry, d is donut, e is egg, f is fish\n",
        "```"
      ],
      "metadata": {
        "id": "Y7uHNJEbySNT"
      }
    },
    {
      "cell_type": "code",
      "source": [
        "print(', '.join([f'{x} is {mart[x][0]}' for x in mart.keys()]))\n",
        "print(', '.join([f'{x} is {v[0]}' for x, v in mart.items()]))"
      ],
      "metadata": {
        "id": "W2LblbxH45qc",
        "colab": {
          "base_uri": "https://localhost:8080/"
        },
        "outputId": "441698b4-25aa-48fe-b7c8-e8b2dde453c8"
      },
      "execution_count": 164,
      "outputs": [
        {
          "output_type": "stream",
          "name": "stdout",
          "text": [
            "a is apple, b is beer, c is cherry, d is donut, e is egg, f is fish\n",
            "a is apple, b is beer, c is cherry, d is donut, e is egg, f is fish\n"
          ]
        }
      ]
    }
  ]
}