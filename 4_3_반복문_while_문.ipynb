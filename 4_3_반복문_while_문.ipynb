{
  "nbformat": 4,
  "nbformat_minor": 0,
  "metadata": {
    "colab": {
      "provenance": [],
      "toc_visible": true,
      "include_colab_link": true
    },
    "kernelspec": {
      "name": "python3",
      "display_name": "Python 3"
    },
    "language_info": {
      "name": "python"
    }
  },
  "cells": [
    {
      "cell_type": "markdown",
      "metadata": {
        "id": "view-in-github",
        "colab_type": "text"
      },
      "source": [
        "<a href=\"https://colab.research.google.com/github/anmo4441/SkillTreePython/blob/main/4_3_%EB%B0%98%EB%B3%B5%EB%AC%B8_while_%EB%AC%B8.ipynb\" target=\"_parent\"><img src=\"https://colab.research.google.com/assets/colab-badge.svg\" alt=\"Open In Colab\"/></a>"
      ]
    },
    {
      "cell_type": "markdown",
      "source": [
        "# 4-3. 반복문 : while 문\n",
        "---\n",
        "* 날짜: 2023-01-04\n",
        "* 이름: 오혜성"
      ],
      "metadata": {
        "id": "kB5IciXEm6o4"
      }
    },
    {
      "cell_type": "markdown",
      "source": [
        "## 개념정리\n",
        "---\n",
        "\n",
        "또 다른 반복문인 whlie문은 for문과 동일하게 특정 코드를 반복해서 진행합니다. 그렇지만 for문과 달리 반복문 내에 반복되는 특정 변수가 없으며 필요시 직접 입력해주어야 합니다.\n"
      ],
      "metadata": {
        "id": "4iN8NFzHRJ2D"
      }
    },
    {
      "cell_type": "markdown",
      "source": [
        "### **(1) 기본 사용**\n",
        "\n",
        "while문의 기본 구조는 아래와 같습니다.\n",
        "\n",
        "\n",
        "\n",
        "```\n",
        "while <조건문>:\n",
        "  <반복되는 코드>\n",
        "  ...\n",
        "```\n",
        "\n",
        "조건문은 항상 bool 형태, 즉 True 혹은 False임을 유의하세요. while은 조건문이 True인 동안 계속해서 반복됩니다. <조건문> 자리에 a가 5보다 작다는 조건을 입력해봅시다. 반복문이 시작할 때 a가 0이기 때문에 a<5라는 조건은 `True` 가 됩니다. 조건문이 `True`인 동안 a는 1씩 증가하다가 a가 5 이상이 되는 순간 조건문은 `False`가 되며 반복문이 종료됩니다.\n",
        "\n",
        "```\n",
        "a=0\n",
        "while a<5:\n",
        "  print(a)\n",
        "  a+=1\n",
        "```\n"
      ],
      "metadata": {
        "id": "MAM8MDnfw68b"
      }
    },
    {
      "cell_type": "code",
      "source": [
        "a=0\n",
        "while a<5:\n",
        "  print(a)\n",
        "  a+=1 # 5 이상이 되면 종료된다."
      ],
      "metadata": {
        "id": "KfFYVIbwR-HW",
        "colab": {
          "base_uri": "https://localhost:8080/"
        },
        "outputId": "c592ff02-251e-4a41-cf46-11dd6fed6038"
      },
      "execution_count": 1,
      "outputs": [
        {
          "output_type": "stream",
          "name": "stdout",
          "text": [
            "0\n",
            "1\n",
            "2\n",
            "3\n",
            "4\n"
          ]
        }
      ]
    },
    {
      "cell_type": "markdown",
      "source": [
        "#### **무한루프**\n",
        "\n",
        "이번에는 <조건문> 자리에 직접 `True` 를 입력하겠습니다. 이렇게 되면 반복문의 조건문이 항상 `True`인 상태기 때문에 다른 조건을 코드 아래에 추가해 주지 않으면 무한루프가 됩니다. (아래 코드는 무한 루프이기 때문에 굳이 실행해 보지 않아도 됩니다.)\n",
        "\n",
        "```\n",
        "a=0\n",
        "while True:\n",
        "  print(a)\n",
        "  a+=1\n",
        "```"
      ],
      "metadata": {
        "id": "cNbe3iQrSC04"
      }
    },
    {
      "cell_type": "code",
      "source": [
        "a=0\n",
        "while True:\n",
        "  print(a)\n",
        "  a+=1 # 무한반복한다. \n",
        "  if a>=5 :\n",
        "    break"
      ],
      "metadata": {
        "id": "KKNOfRqJhkXv",
        "colab": {
          "base_uri": "https://localhost:8080/"
        },
        "outputId": "109be3a6-cea4-4fe2-890e-e087bb4f3537"
      },
      "execution_count": 17,
      "outputs": [
        {
          "output_type": "stream",
          "name": "stdout",
          "text": [
            "0\n",
            "1\n",
            "2\n",
            "3\n",
            "4\n"
          ]
        }
      ]
    },
    {
      "cell_type": "markdown",
      "source": [
        "### **(2) if문과 함께 쓰는 for문**\n",
        "\n",
        "무한이 코드가 돌아가지 않도록 해야 하기 때문에 보통 반복문 내에 이를 컨트롤 할 코드를 작성해 줍니다. \n"
      ],
      "metadata": {
        "id": "vQOdMT95SGNB"
      }
    },
    {
      "cell_type": "markdown",
      "source": [
        "\n",
        "#### **다음반복으로 건너뛰기**\n",
        "\n",
        "* `continue`\n",
        "\n",
        "만일 특정 조건에서 루프를 그대로 종료하는 것이 아니라 다음 루프로 넘어가고 싶다면 `continue`를 사용합니다.\n",
        "\n",
        "```\n",
        "a = 0\n",
        "while True:\n",
        "  print(a)\n",
        "  a+=1\n",
        "  if a==5: \n",
        "    continue\n",
        "  if a==10:\n",
        "    break\n",
        "```\n"
      ],
      "metadata": {
        "id": "LpWMyxcaSrjn"
      }
    },
    {
      "cell_type": "code",
      "source": [
        "a = 0\n",
        "while True:\n",
        "  print(a)\n",
        "  a+=1\n",
        "  if a==5: \n",
        "    continue\n",
        "  if a==10:\n",
        "    break # a 가 10이 되는 순간 즉시종료."
      ],
      "metadata": {
        "id": "NdFATim3ScXv",
        "colab": {
          "base_uri": "https://localhost:8080/"
        },
        "outputId": "72ebdf76-6530-4ff3-974e-c564d9657884"
      },
      "execution_count": 5,
      "outputs": [
        {
          "output_type": "stream",
          "name": "stdout",
          "text": [
            "0\n",
            "1\n",
            "2\n",
            "3\n",
            "4\n",
            "5\n",
            "6\n",
            "7\n",
            "8\n",
            "9\n"
          ]
        }
      ]
    },
    {
      "cell_type": "markdown",
      "source": [
        "#### **while문을 즉시 종료하기**  \n",
        "\n",
        "* `break`\n",
        "\n",
        "`for문` 안에서 `break` 을 만나면 즉시 `for문`이 종료됩니다. (모든 루프가 돌아가지 않았어도)\n",
        "\n",
        "```\n",
        "a=0\n",
        "while True:\n",
        "  print(a)\n",
        "  a+=1\n",
        "  if a==5:\n",
        "    break\n",
        "```\n"
      ],
      "metadata": {
        "id": "BWkOb_W7SZ-i"
      }
    },
    {
      "cell_type": "code",
      "source": [
        "a=0\n",
        "while True:\n",
        "  print(a)\n",
        "  a+=1\n",
        "  if a==5:\n",
        "    break # a가 5가 되면 즉시종료"
      ],
      "metadata": {
        "id": "Vn8Fq0lTSByH",
        "colab": {
          "base_uri": "https://localhost:8080/"
        },
        "outputId": "4503e404-a439-4426-cb29-11f3b9e136d8"
      },
      "execution_count": 6,
      "outputs": [
        {
          "output_type": "stream",
          "name": "stdout",
          "text": [
            "0\n",
            "1\n",
            "2\n",
            "3\n",
            "4\n"
          ]
        }
      ]
    },
    {
      "cell_type": "code",
      "source": [],
      "metadata": {
        "id": "7dnIs1-bpxYs"
      },
      "execution_count": null,
      "outputs": []
    },
    {
      "cell_type": "markdown",
      "source": [
        "## 문제 풀이\n",
        "---"
      ],
      "metadata": {
        "id": "vWphXr9jTAsO"
      }
    },
    {
      "cell_type": "markdown",
      "source": [
        "\n",
        "**예제 01**\n",
        "\n",
        "for문으로 작성한 코드와 똑같은 결과가 나오도록 while문으로 작성하세요\n",
        "\n",
        "```\n",
        "for i in range(3, 10):\n",
        "  print(i)\n",
        "```"
      ],
      "metadata": {
        "id": "u98zs4LITAyC"
      }
    },
    {
      "cell_type": "code",
      "source": [
        "a = 3\n",
        "while a < 10 : \n",
        "  print(a)\n",
        "  a += 1"
      ],
      "metadata": {
        "id": "IiaxggF-TEit",
        "colab": {
          "base_uri": "https://localhost:8080/"
        },
        "outputId": "8c6ba5e6-5882-47c6-9463-df936145c7af"
      },
      "execution_count": 13,
      "outputs": [
        {
          "output_type": "stream",
          "name": "stdout",
          "text": [
            "3\n",
            "4\n",
            "5\n",
            "6\n",
            "7\n",
            "8\n",
            "9\n"
          ]
        }
      ]
    },
    {
      "cell_type": "markdown",
      "source": [
        "**예제 02**\n",
        "\n",
        "for문으로 작성한 코드와 똑같은 결과가 나오도록 while문으로 작성하세요\n",
        "\n",
        "```\n",
        "for i in range(1, 101, 5):\n",
        "  print(i)\n",
        "```"
      ],
      "metadata": {
        "id": "vDB4GsJGVB2N"
      }
    },
    {
      "cell_type": "code",
      "source": [
        "i = 1\n",
        "while i < 101 :\n",
        "  print(i)\n",
        "  i += 5"
      ],
      "metadata": {
        "id": "tuRSlqbTVCEp",
        "colab": {
          "base_uri": "https://localhost:8080/"
        },
        "outputId": "f49c66b8-d7e5-477f-f974-e1c6f63fb30f"
      },
      "execution_count": 19,
      "outputs": [
        {
          "output_type": "stream",
          "name": "stdout",
          "text": [
            "1\n",
            "6\n",
            "11\n",
            "16\n",
            "21\n",
            "26\n",
            "31\n",
            "36\n",
            "41\n",
            "46\n",
            "51\n",
            "56\n",
            "61\n",
            "66\n",
            "71\n",
            "76\n",
            "81\n",
            "86\n",
            "91\n",
            "96\n"
          ]
        }
      ]
    },
    {
      "cell_type": "markdown",
      "source": [
        "**예제 03**\n",
        "\n",
        "for문으로 작성한 코드와 똑같은 결과가 나오도록 while문으로 작성하세요\n",
        "\n",
        "```\n",
        "for i in range(100):\n",
        "  if i%2==0:\n",
        "    print(i,\"짝수\")\n",
        "  if i==80: break\n",
        "```\n"
      ],
      "metadata": {
        "id": "4EyLkoMQVDkW"
      }
    },
    {
      "cell_type": "code",
      "source": [
        "a = 0\n",
        "while a < 100 :\n",
        "  if a%2==0:\n",
        "    print(a, \"짝수\")\n",
        "    a += 2\n",
        "  if a == 80 : \n",
        "    break\n",
        "  print()\n"
      ],
      "metadata": {
        "id": "_16FaIPGVEZ9",
        "colab": {
          "base_uri": "https://localhost:8080/"
        },
        "outputId": "92c66b10-eaaa-48db-ce3b-1d5abade6dff"
      },
      "execution_count": 34,
      "outputs": [
        {
          "output_type": "stream",
          "name": "stdout",
          "text": [
            "0 짝수\n",
            "\n",
            "2 짝수\n",
            "\n",
            "4 짝수\n",
            "\n",
            "6 짝수\n",
            "\n",
            "8 짝수\n",
            "\n",
            "10 짝수\n",
            "\n",
            "12 짝수\n",
            "\n",
            "14 짝수\n",
            "\n",
            "16 짝수\n",
            "\n",
            "18 짝수\n",
            "\n",
            "20 짝수\n",
            "\n",
            "22 짝수\n",
            "\n",
            "24 짝수\n",
            "\n",
            "26 짝수\n",
            "\n",
            "28 짝수\n",
            "\n",
            "30 짝수\n",
            "\n",
            "32 짝수\n",
            "\n",
            "34 짝수\n",
            "\n",
            "36 짝수\n",
            "\n",
            "38 짝수\n",
            "\n",
            "40 짝수\n",
            "\n",
            "42 짝수\n",
            "\n",
            "44 짝수\n",
            "\n",
            "46 짝수\n",
            "\n",
            "48 짝수\n",
            "\n",
            "50 짝수\n",
            "\n",
            "52 짝수\n",
            "\n",
            "54 짝수\n",
            "\n",
            "56 짝수\n",
            "\n",
            "58 짝수\n",
            "\n",
            "60 짝수\n",
            "\n",
            "62 짝수\n",
            "\n",
            "64 짝수\n",
            "\n",
            "66 짝수\n",
            "\n",
            "68 짝수\n",
            "\n",
            "70 짝수\n",
            "\n",
            "72 짝수\n",
            "\n",
            "74 짝수\n",
            "\n",
            "76 짝수\n",
            "\n",
            "78 짝수\n"
          ]
        }
      ]
    },
    {
      "cell_type": "markdown",
      "source": [
        "**예제 04**\n",
        "\n",
        "while 문을 이용해 1에서 100까지 짝수만 출력하세요\n"
      ],
      "metadata": {
        "id": "V4L7t5KMVEgg"
      }
    },
    {
      "cell_type": "code",
      "source": [
        "a = 0\n",
        "while a <= 100 :\n",
        "  if a % 2 == 0 :\n",
        "    print(a)\n",
        "    a += 2 "
      ],
      "metadata": {
        "id": "U52mspwKVFXU",
        "colab": {
          "base_uri": "https://localhost:8080/"
        },
        "outputId": "d05b552c-18c7-4623-a7d0-6f69bd9e24be"
      },
      "execution_count": 38,
      "outputs": [
        {
          "output_type": "stream",
          "name": "stdout",
          "text": [
            "0\n",
            "2\n",
            "4\n",
            "6\n",
            "8\n",
            "10\n",
            "12\n",
            "14\n",
            "16\n",
            "18\n",
            "20\n",
            "22\n",
            "24\n",
            "26\n",
            "28\n",
            "30\n",
            "32\n",
            "34\n",
            "36\n",
            "38\n",
            "40\n",
            "42\n",
            "44\n",
            "46\n",
            "48\n",
            "50\n",
            "52\n",
            "54\n",
            "56\n",
            "58\n",
            "60\n",
            "62\n",
            "64\n",
            "66\n",
            "68\n",
            "70\n",
            "72\n",
            "74\n",
            "76\n",
            "78\n",
            "80\n",
            "82\n",
            "84\n",
            "86\n",
            "88\n",
            "90\n",
            "92\n",
            "94\n",
            "96\n",
            "98\n",
            "100\n"
          ]
        }
      ]
    },
    {
      "cell_type": "markdown",
      "source": [
        "**예제 05**\n",
        "\n",
        "while 문을 이용해 1에서 100까지 홀수만 더한 값을 구하세요"
      ],
      "metadata": {
        "id": "1q-kYwVQVFhn"
      }
    },
    {
      "cell_type": "code",
      "source": [
        "x = 1\n",
        "sum = 0\n",
        "\n",
        "while x < 100 :\n",
        "    if x % 2 == 0:\n",
        "        pass\n",
        "    else:\n",
        "        sum = sum + x\n",
        "    x = x+1\n",
        "\n",
        "print(sum)"
      ],
      "metadata": {
        "id": "naOWIU4uVGhS",
        "colab": {
          "base_uri": "https://localhost:8080/"
        },
        "outputId": "b46cf1f8-4e6e-4f14-c949-7f28ae8b8b67"
      },
      "execution_count": 39,
      "outputs": [
        {
          "output_type": "stream",
          "name": "stdout",
          "text": [
            "2500\n"
          ]
        }
      ]
    },
    {
      "cell_type": "markdown",
      "source": [
        "**예제 06**\n",
        "\n",
        "while 문을 이용해 1에서 100까지 4와 3의 공배수들의 평균을 구하세요"
      ],
      "metadata": {
        "id": "wy_k3SAeVGqc"
      }
    },
    {
      "cell_type": "code",
      "source": [],
      "metadata": {
        "id": "grC1BOsQVHvI"
      },
      "execution_count": 46,
      "outputs": []
    },
    {
      "cell_type": "markdown",
      "source": [
        "**예제 07**\n",
        "\n",
        "- while구문을 시작합니다.\n",
        "- `input()` 함수로 사용자의 입력을 계속 받습니다.\n",
        "- 사용자가 \"그만\" 이라고 입력하면 구문을 종료합니다."
      ],
      "metadata": {
        "id": "dfQJicrVVH6N"
      }
    },
    {
      "cell_type": "code",
      "source": [
        "while  :\n",
        "  print(input(\"\"))\n",
        "  if input()"
      ],
      "metadata": {
        "id": "lQ4KOverVJGc",
        "colab": {
          "base_uri": "https://localhost:8080/",
          "height": 400
        },
        "outputId": "683980cd-dfe7-42d0-f9d0-d18237f11b33"
      },
      "execution_count": 47,
      "outputs": [
        {
          "output_type": "stream",
          "name": "stdout",
          "text": [
            "그만ㅇㅁㄴㅇㅁㄴㅇ\n",
            "ㅁㄴㅇㅁㄴㅇ\n",
            "ㅁㄴㅇㅁㄴㅇ\n"
          ]
        },
        {
          "output_type": "error",
          "ename": "KeyboardInterrupt",
          "evalue": "ignored",
          "traceback": [
            "\u001b[0;31m---------------------------------------------------------------------------\u001b[0m",
            "\u001b[0;31mKeyboardInterrupt\u001b[0m                         Traceback (most recent call last)",
            "\u001b[0;32m<ipython-input-47-e8e0e0344e19>\u001b[0m in \u001b[0;36m<module>\u001b[0;34m\u001b[0m\n\u001b[0;32m----> 1\u001b[0;31m \u001b[0;32mwhile\u001b[0m \u001b[0minput\u001b[0m\u001b[0;34m(\u001b[0m\u001b[0;34m\"그만\"\u001b[0m\u001b[0;34m)\u001b[0m \u001b[0;34m:\u001b[0m\u001b[0;34m\u001b[0m\u001b[0;34m\u001b[0m\u001b[0m\n\u001b[0m\u001b[1;32m      2\u001b[0m   \u001b[0mprint\u001b[0m\u001b[0;34m(\u001b[0m\u001b[0minput\u001b[0m\u001b[0;34m(\u001b[0m\u001b[0;34m\"\"\u001b[0m\u001b[0;34m)\u001b[0m\u001b[0;34m)\u001b[0m\u001b[0;34m\u001b[0m\u001b[0;34m\u001b[0m\u001b[0m\n",
            "\u001b[0;32m/usr/local/lib/python3.8/dist-packages/ipykernel/kernelbase.py\u001b[0m in \u001b[0;36mraw_input\u001b[0;34m(self, prompt)\u001b[0m\n\u001b[1;32m    858\u001b[0m                 \u001b[0;34m\"raw_input was called, but this frontend does not support input requests.\"\u001b[0m\u001b[0;34m\u001b[0m\u001b[0;34m\u001b[0m\u001b[0m\n\u001b[1;32m    859\u001b[0m             )\n\u001b[0;32m--> 860\u001b[0;31m         return self._input_request(str(prompt),\n\u001b[0m\u001b[1;32m    861\u001b[0m             \u001b[0mself\u001b[0m\u001b[0;34m.\u001b[0m\u001b[0m_parent_ident\u001b[0m\u001b[0;34m,\u001b[0m\u001b[0;34m\u001b[0m\u001b[0;34m\u001b[0m\u001b[0m\n\u001b[1;32m    862\u001b[0m             \u001b[0mself\u001b[0m\u001b[0;34m.\u001b[0m\u001b[0m_parent_header\u001b[0m\u001b[0;34m,\u001b[0m\u001b[0;34m\u001b[0m\u001b[0;34m\u001b[0m\u001b[0m\n",
            "\u001b[0;32m/usr/local/lib/python3.8/dist-packages/ipykernel/kernelbase.py\u001b[0m in \u001b[0;36m_input_request\u001b[0;34m(self, prompt, ident, parent, password)\u001b[0m\n\u001b[1;32m    902\u001b[0m             \u001b[0;32mexcept\u001b[0m \u001b[0mKeyboardInterrupt\u001b[0m\u001b[0;34m:\u001b[0m\u001b[0;34m\u001b[0m\u001b[0;34m\u001b[0m\u001b[0m\n\u001b[1;32m    903\u001b[0m                 \u001b[0;31m# re-raise KeyboardInterrupt, to truncate traceback\u001b[0m\u001b[0;34m\u001b[0m\u001b[0;34m\u001b[0m\u001b[0;34m\u001b[0m\u001b[0m\n\u001b[0;32m--> 904\u001b[0;31m                 \u001b[0;32mraise\u001b[0m \u001b[0mKeyboardInterrupt\u001b[0m\u001b[0;34m(\u001b[0m\u001b[0;34m\"Interrupted by user\"\u001b[0m\u001b[0;34m)\u001b[0m \u001b[0;32mfrom\u001b[0m \u001b[0;32mNone\u001b[0m\u001b[0;34m\u001b[0m\u001b[0;34m\u001b[0m\u001b[0m\n\u001b[0m\u001b[1;32m    905\u001b[0m             \u001b[0;32mexcept\u001b[0m \u001b[0mException\u001b[0m \u001b[0;32mas\u001b[0m \u001b[0me\u001b[0m\u001b[0;34m:\u001b[0m\u001b[0;34m\u001b[0m\u001b[0;34m\u001b[0m\u001b[0m\n\u001b[1;32m    906\u001b[0m                 \u001b[0mself\u001b[0m\u001b[0;34m.\u001b[0m\u001b[0mlog\u001b[0m\u001b[0;34m.\u001b[0m\u001b[0mwarning\u001b[0m\u001b[0;34m(\u001b[0m\u001b[0;34m\"Invalid Message:\"\u001b[0m\u001b[0;34m,\u001b[0m \u001b[0mexc_info\u001b[0m\u001b[0;34m=\u001b[0m\u001b[0;32mTrue\u001b[0m\u001b[0;34m)\u001b[0m\u001b[0;34m\u001b[0m\u001b[0;34m\u001b[0m\u001b[0m\n",
            "\u001b[0;31mKeyboardInterrupt\u001b[0m: Interrupted by user"
          ]
        }
      ]
    },
    {
      "cell_type": "markdown",
      "source": [
        "**예제 08**\n",
        "\n",
        "while문을 이용해 아래 결과를 내는 함수 `bomb()` 를 작성하세요. 음수가 입력될 경우 다른 에러메시지를 출력하세요.\n",
        "\n",
        "\n",
        "```\n",
        ">> bomb() \n",
        "Enter timer: 6  \n",
        "befor 6 sec.  \n",
        "befor 5 sec.  \n",
        "befor 4 sec.  \n",
        "befor 3 sec.  \n",
        "befor 2 sec.  \n",
        "befor 1 sec.  \n",
        "BOMB!  \n",
        "```"
      ],
      "metadata": {
        "id": "hF9slbhOVJKw"
      }
    },
    {
      "cell_type": "code",
      "source": [],
      "metadata": {
        "id": "7SEfCpsTVMio"
      },
      "execution_count": null,
      "outputs": []
    },
    {
      "cell_type": "markdown",
      "source": [
        "**예제 09**\n",
        "\n",
        "연이자율이 8%인 예금통장에 길동이는 올해 1월 1000만원을 예금했습니다. 이 돈이 1500만원을 넘기는 시점은 몇년뒤 인지 while문을 이용해서 구하세요\n"
      ],
      "metadata": {
        "id": "c1v9VLOHVN0t"
      }
    },
    {
      "cell_type": "code",
      "source": [],
      "metadata": {
        "id": "Me8E8AVAVOoR"
      },
      "execution_count": null,
      "outputs": []
    },
    {
      "cell_type": "markdown",
      "source": [
        "**예제 10**\n",
        "\n",
        "- while 문을 이용해 1부터 100까지 값을 출력합니다.\n",
        "- 만약 출력값이 짝수면 `list_even`, 홀수면 `list_odd`, 5의 배수면 `list_5`\n",
        "- `list_even, list_odd, list_5`는 리스트이며 중복가능하게 각 리스트에 숫자를 넣습니다.\n"
      ],
      "metadata": {
        "id": "ITHlcSQZVOsm"
      }
    },
    {
      "cell_type": "code",
      "source": [],
      "metadata": {
        "id": "Dxp71crMVYkm"
      },
      "execution_count": null,
      "outputs": []
    },
    {
      "cell_type": "code",
      "source": [],
      "metadata": {
        "id": "aj9AlNYyQqN9"
      },
      "execution_count": null,
      "outputs": []
    }
  ]
}