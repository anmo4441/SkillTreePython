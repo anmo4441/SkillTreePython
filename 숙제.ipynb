{
  "nbformat": 4,
  "nbformat_minor": 0,
  "metadata": {
    "colab": {
      "provenance": [],
      "include_colab_link": true
    },
    "kernelspec": {
      "name": "python3",
      "display_name": "Python 3"
    },
    "language_info": {
      "name": "python"
    }
  },
  "cells": [
    {
      "cell_type": "markdown",
      "metadata": {
        "id": "view-in-github",
        "colab_type": "text"
      },
      "source": [
        "<a href=\"https://colab.research.google.com/github/anmo4441/SkillTreePython/blob/main/%EC%88%99%EC%A0%9C.ipynb\" target=\"_parent\"><img src=\"https://colab.research.google.com/assets/colab-badge.svg\" alt=\"Open In Colab\"/></a>"
      ]
    },
    {
      "cell_type": "code",
      "source": [
        "import requests\n",
        "import json"
      ],
      "metadata": {
        "id": "bt12urUat6Gf"
      },
      "execution_count": null,
      "outputs": []
    },
    {
      "cell_type": "code",
      "source": [
        "!pip install --upgrade gdown"
      ],
      "metadata": {
        "colab": {
          "base_uri": "https://localhost:8080/"
        },
        "id": "eqdTJkWhPuD-",
        "outputId": "262aa264-d6e7-4f4b-9c14-a1dc6a5d02a6"
      },
      "execution_count": 1,
      "outputs": [
        {
          "output_type": "stream",
          "name": "stdout",
          "text": [
            "Looking in indexes: https://pypi.org/simple, https://us-python.pkg.dev/colab-wheels/public/simple/\n",
            "Requirement already satisfied: gdown in /usr/local/lib/python3.8/dist-packages (4.4.0)\n",
            "Collecting gdown\n",
            "  Downloading gdown-4.6.0-py3-none-any.whl (14 kB)\n",
            "Requirement already satisfied: tqdm in /usr/local/lib/python3.8/dist-packages (from gdown) (4.64.1)\n",
            "Requirement already satisfied: six in /usr/local/lib/python3.8/dist-packages (from gdown) (1.15.0)\n",
            "Requirement already satisfied: beautifulsoup4 in /usr/local/lib/python3.8/dist-packages (from gdown) (4.6.3)\n",
            "Requirement already satisfied: filelock in /usr/local/lib/python3.8/dist-packages (from gdown) (3.8.2)\n",
            "Requirement already satisfied: requests[socks] in /usr/local/lib/python3.8/dist-packages (from gdown) (2.25.1)\n",
            "Requirement already satisfied: urllib3<1.27,>=1.21.1 in /usr/local/lib/python3.8/dist-packages (from requests[socks]->gdown) (1.24.3)\n",
            "Requirement already satisfied: chardet<5,>=3.0.2 in /usr/local/lib/python3.8/dist-packages (from requests[socks]->gdown) (4.0.0)\n",
            "Requirement already satisfied: idna<3,>=2.5 in /usr/local/lib/python3.8/dist-packages (from requests[socks]->gdown) (2.10)\n",
            "Requirement already satisfied: certifi>=2017.4.17 in /usr/local/lib/python3.8/dist-packages (from requests[socks]->gdown) (2022.12.7)\n",
            "Requirement already satisfied: PySocks!=1.5.7,>=1.5.6 in /usr/local/lib/python3.8/dist-packages (from requests[socks]->gdown) (1.7.1)\n",
            "Installing collected packages: gdown\n",
            "  Attempting uninstall: gdown\n",
            "    Found existing installation: gdown 4.4.0\n",
            "    Uninstalling gdown-4.4.0:\n",
            "      Successfully uninstalled gdown-4.4.0\n",
            "Successfully installed gdown-4.6.0\n"
          ]
        }
      ]
    },
    {
      "cell_type": "code",
      "source": [
        "# https://drive.google.com/file/d/1R7i1XqmiJ_NirSEwQg1lLz6utzrTufVW/view?usp=share_link\n",
        "!gdown 1R7i1XqmiJ_NirSEwQg1lLz6utzrTufVW"
      ],
      "metadata": {
        "colab": {
          "base_uri": "https://localhost:8080/"
        },
        "id": "DgBq19XHPJ3v",
        "outputId": "e9d03427-0def-4175-8858-75c9ea432d96"
      },
      "execution_count": 2,
      "outputs": [
        {
          "output_type": "stream",
          "name": "stdout",
          "text": [
            "Downloading...\n",
            "From: https://drive.google.com/uc?id=1R7i1XqmiJ_NirSEwQg1lLz6utzrTufVW\n",
            "To: /content/chkmethod.py\n",
            "\r  0% 0.00/1.65k [00:00<?, ?B/s]\r100% 1.65k/1.65k [00:00<00:00, 5.16MB/s]\n"
          ]
        }
      ]
    },
    {
      "cell_type": "code",
      "source": [
        "from chkmethod import check_str, check_strlist, check_range, check_num, summary"
      ],
      "metadata": {
        "id": "OQILOsSzPgTO"
      },
      "execution_count": 3,
      "outputs": []
    },
    {
      "cell_type": "code",
      "source": [
        "import numpy as np\n",
        "import sympy as S\n",
        "\n",
        "ans = {}"
      ],
      "metadata": {
        "id": "6LaDr9vnoSBY"
      },
      "execution_count": 4,
      "outputs": []
    },
    {
      "cell_type": "markdown",
      "source": [
        "## 다음 어레이 `A`에 대해서 물음에 답하시오."
      ],
      "metadata": {
        "id": "UctoU4NIoIlx"
      }
    },
    {
      "cell_type": "code",
      "source": [
        "np.random.seed(42)\n",
        "\n",
        "A = np.random.rand(10*3).reshape(10,3)\n",
        "A"
      ],
      "metadata": {
        "colab": {
          "base_uri": "https://localhost:8080/"
        },
        "id": "KYDA11EvoYQC",
        "outputId": "bcc9b8f3-5fde-4556-fb98-8d327954ef2e"
      },
      "execution_count": 18,
      "outputs": [
        {
          "output_type": "execute_result",
          "data": {
            "text/plain": [
              "array([[0.37454012, 0.95071431, 0.73199394],\n",
              "       [0.59865848, 0.15601864, 0.15599452],\n",
              "       [0.05808361, 0.86617615, 0.60111501],\n",
              "       [0.70807258, 0.02058449, 0.96990985],\n",
              "       [0.83244264, 0.21233911, 0.18182497],\n",
              "       [0.18340451, 0.30424224, 0.52475643],\n",
              "       [0.43194502, 0.29122914, 0.61185289],\n",
              "       [0.13949386, 0.29214465, 0.36636184],\n",
              "       [0.45606998, 0.78517596, 0.19967378],\n",
              "       [0.51423444, 0.59241457, 0.04645041]])"
            ]
          },
          "metadata": {},
          "execution_count": 18
        }
      ]
    },
    {
      "cell_type": "markdown",
      "source": [
        "### 1. 주어진 어레이 `A`의 3열 값을 0.5보다 같거나 크면 1, 0.5보다 작으면 0으로 바꾸고 1로 바뀐 것은 모두 몇개인지 계산하시오."
      ],
      "metadata": {
        "id": "wj5c0hxjrQyL"
      }
    },
    {
      "cell_type": "code",
      "source": [],
      "metadata": {
        "id": "L2D62PrBo1vj"
      },
      "execution_count": 18,
      "outputs": []
    },
    {
      "cell_type": "code",
      "source": [
        "######################################################################\n",
        "# ans['p1']에 정답을 int()로 감싸서 int형으로 변환하여 대입하시오.\n",
        "######################################################################\n",
        "\n",
        "ans['p1'] = None"
      ],
      "metadata": {
        "id": "PiNBvMlnsQON"
      },
      "execution_count": 19,
      "outputs": []
    },
    {
      "cell_type": "markdown",
      "source": [
        "### 2. 1번과 동일한 절차로 아래 만들어진 `(10000,3)`인 어레이의 3열에서 0.5보다 같거나 큰 숫자는 모두 몇개인지 계산하시오."
      ],
      "metadata": {
        "id": "G-vVsubprnhY"
      }
    },
    {
      "cell_type": "code",
      "source": [
        "np.random.seed(42)\n",
        "B = np.random.rand(10000*3).reshape(10000,3)\n"
      ],
      "metadata": {
        "id": "98InXtYiqGbO"
      },
      "execution_count": 36,
      "outputs": []
    },
    {
      "cell_type": "code",
      "source": [
        "######################################################################\n",
        "# ans['p2']에 정답을 int()로 감싸서 int형으로 변환하여 대입하시오.\n",
        "######################################################################\n",
        "\n",
        "ans['p2'] = None"
      ],
      "metadata": {
        "id": "NMS5bomtsXAM"
      },
      "execution_count": 37,
      "outputs": []
    },
    {
      "cell_type": "markdown",
      "source": [
        "## 다음 함수를 주어진 미분하기 위해 다음 문제에 답하시오.\n",
        "\n",
        "$$\n",
        "y = \\left( \\frac{\\sqrt{x}}{2} - 1 \\right)^{-10}\n",
        "$$\n",
        "\n",
        "\n"
      ],
      "metadata": {
        "id": "2KrQO1YtmpB7"
      }
    },
    {
      "cell_type": "markdown",
      "source": [
        "### 3. 심파이를 써서 도함수를 구하고 $x=1$ 에서 함수 값과 미분 계수를 계산하시오."
      ],
      "metadata": {
        "id": "jg9dOWxPmzv7"
      }
    },
    {
      "cell_type": "code",
      "source": [
        "x = S.Symbol(\"x\")\n",
        "y = (S.sqrt(x)/2-1)**(-10)\n",
        "y"
      ],
      "metadata": {
        "id": "yojeshZCm73m",
        "outputId": "09c9a43e-a3a3-4d7e-fcb5-b208292c25dc",
        "colab": {
          "base_uri": "https://localhost:8080/",
          "height": 71
        }
      },
      "execution_count": 38,
      "outputs": [
        {
          "output_type": "execute_result",
          "data": {
            "text/plain": [
              "(sqrt(x)/2 - 1)**(-10)"
            ],
            "text/latex": "$\\displaystyle \\frac{1}{\\left(\\frac{\\sqrt{x}}{2} - 1\\right)^{10}}$"
          },
          "metadata": {},
          "execution_count": 38
        }
      ]
    },
    {
      "cell_type": "code",
      "source": [
        "dy = S.diff(y, x)\n",
        "dy"
      ],
      "metadata": {
        "id": "3dpFTw0nJtl8",
        "outputId": "2ebcf822-a538-4d48-d677-d288d992b2e2",
        "colab": {
          "base_uri": "https://localhost:8080/",
          "height": 71
        }
      },
      "execution_count": 39,
      "outputs": [
        {
          "output_type": "execute_result",
          "data": {
            "text/plain": [
              "-5/(2*sqrt(x)*(sqrt(x)/2 - 1)**11)"
            ],
            "text/latex": "$\\displaystyle - \\frac{5}{2 \\sqrt{x} \\left(\\frac{\\sqrt{x}}{2} - 1\\right)^{11}}$"
          },
          "metadata": {},
          "execution_count": 39
        }
      ]
    },
    {
      "cell_type": "code",
      "source": [
        "x0 = 1\n",
        "\n",
        "dy.subs({x:x0})"
      ],
      "metadata": {
        "id": "H6VnKmhUJyFj",
        "outputId": "c991a5d0-1e3e-4f17-ffd4-913d98932491",
        "colab": {
          "base_uri": "https://localhost:8080/",
          "height": 37
        }
      },
      "execution_count": 41,
      "outputs": [
        {
          "output_type": "execute_result",
          "data": {
            "text/plain": [
              "5120"
            ],
            "text/latex": "$\\displaystyle 5120$"
          },
          "metadata": {},
          "execution_count": 41
        }
      ]
    },
    {
      "cell_type": "code",
      "source": [
        "######################################################################\n",
        "# ans['p3']에 정답을 float()로 감싸서 float형으로 변환하여 대입하시오.\n",
        "######################################################################\n",
        "\n",
        "ans['p3'] = None"
      ],
      "metadata": {
        "id": "KWedaXr3sOPa"
      },
      "execution_count": 23,
      "outputs": []
    },
    {
      "cell_type": "markdown",
      "source": [
        "### 4. 주어진 함수를 자동 미분하기 위해 포워드 패스에서 변수의 거듭 제곱을 계산하고 백워드에서 포워드 패스 함수의 도함수 값을 계산하는 `pow(x, n)` 함수를 정의하시오. 그리고 $x=0.631$, $n=3$ 에서 함수값과 도함수 값을 구하시오."
      ],
      "metadata": {
        "id": "d7NRRmY-m9IK"
      }
    },
    {
      "cell_type": "code",
      "source": [
        "def pow(x, n):\n",
        "    # WRITE CODE HERE [+]\n",
        "    pass"
      ],
      "metadata": {
        "id": "5wHHBEeGnkCK"
      },
      "execution_count": 24,
      "outputs": []
    },
    {
      "cell_type": "code",
      "source": [
        "#############################################################\n",
        "# ans['p4-1']에 함수값을 ans['p4-2']에 도함수값을 대입하시오.\n",
        "#############################################################\n",
        "\n",
        "ans['p4-1'] = None\n",
        "ans['p4-2'] = None"
      ],
      "metadata": {
        "id": "nB-EZyV2sn9P"
      },
      "execution_count": 25,
      "outputs": []
    },
    {
      "cell_type": "markdown",
      "source": [
        "### 5. 제시된 `add()`와 `mul()` 그리고 문제 4에서 작성한 `pow()`를 사용하여 주어진 함수를 자동 미분하시오. 함수값과 미분 계수는 $x=1$에서 계산하시오."
      ],
      "metadata": {
        "id": "4ZmQklC1nklh"
      }
    },
    {
      "cell_type": "code",
      "source": [
        "def add(x, a):\n",
        "    return x+a, 1\n",
        "\n",
        "def mul(x, a):\n",
        "    return a*x, a"
      ],
      "metadata": {
        "id": "yj5WobCfn7U-"
      },
      "execution_count": 26,
      "outputs": []
    },
    {
      "cell_type": "code",
      "source": [
        "x0 = 1\n",
        "\n",
        "# WRITE CODE HERE [+]\n"
      ],
      "metadata": {
        "id": "vdBjSQeHrEEx"
      },
      "execution_count": 27,
      "outputs": []
    },
    {
      "cell_type": "code",
      "source": [
        "######################################################################\n",
        "# ans['p5-1']에 함수값을 대입하시오.\n",
        "######################################################################\n",
        "ans['p5-1'] = None\n",
        "\n",
        "######################################################################\n",
        "# ans['p5-2']에 미분계수를 대입하시오.\n",
        "######################################################################\n",
        "ans['p5-2'] = None"
      ],
      "metadata": {
        "id": "jTqgtsnrs17D"
      },
      "execution_count": 28,
      "outputs": []
    },
    {
      "cell_type": "code",
      "source": [
        "# ans를 json으로 만들어서 서버에 post\n",
        "ans['p_set'] = '20230106_hkit'\n",
        "headers = {'Content-Type': 'application/json; chearset=utf-8'}\n",
        "response  = requests.post('https://metamath.pythonanywhere.com/solchk', \n",
        "                          data=json.dumps(ans, default=str), headers=headers)\n",
        "\n",
        "\n",
        "# 채점 결과가 들어있음\n",
        "res = json.loads(response.text)\n",
        "\n",
        "summary( res )"
      ],
      "metadata": {
        "colab": {
          "base_uri": "https://localhost:8080/",
          "height": 248
        },
        "id": "tuJDMdu-uCxw",
        "outputId": "053bc35a-ab40-478a-ca8f-031e10930aef"
      },
      "execution_count": 29,
      "outputs": [
        {
          "output_type": "error",
          "ename": "NameError",
          "evalue": "ignored",
          "traceback": [
            "\u001b[0;31m---------------------------------------------------------------------------\u001b[0m",
            "\u001b[0;31mNameError\u001b[0m                                 Traceback (most recent call last)",
            "\u001b[0;32m<ipython-input-29-313633f5fd37>\u001b[0m in \u001b[0;36m<module>\u001b[0;34m\u001b[0m\n\u001b[1;32m      2\u001b[0m \u001b[0mans\u001b[0m\u001b[0;34m[\u001b[0m\u001b[0;34m'p_set'\u001b[0m\u001b[0;34m]\u001b[0m \u001b[0;34m=\u001b[0m \u001b[0;34m'20230106_hkit'\u001b[0m\u001b[0;34m\u001b[0m\u001b[0;34m\u001b[0m\u001b[0m\n\u001b[1;32m      3\u001b[0m \u001b[0mheaders\u001b[0m \u001b[0;34m=\u001b[0m \u001b[0;34m{\u001b[0m\u001b[0;34m'Content-Type'\u001b[0m\u001b[0;34m:\u001b[0m \u001b[0;34m'application/json; chearset=utf-8'\u001b[0m\u001b[0;34m}\u001b[0m\u001b[0;34m\u001b[0m\u001b[0;34m\u001b[0m\u001b[0m\n\u001b[0;32m----> 4\u001b[0;31m response  = requests.post('https://metamath.pythonanywhere.com/solchk', \n\u001b[0m\u001b[1;32m      5\u001b[0m                           data=json.dumps(ans, default=str), headers=headers)\n\u001b[1;32m      6\u001b[0m \u001b[0;34m\u001b[0m\u001b[0m\n",
            "\u001b[0;31mNameError\u001b[0m: name 'requests' is not defined"
          ]
        }
      ]
    },
    {
      "cell_type": "code",
      "source": [],
      "metadata": {
        "id": "3WVR_SftwrKQ"
      },
      "execution_count": 29,
      "outputs": []
    }
  ]
}