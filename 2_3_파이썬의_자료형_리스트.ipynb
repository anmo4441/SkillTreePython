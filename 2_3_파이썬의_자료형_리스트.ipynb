{
  "nbformat": 4,
  "nbformat_minor": 0,
  "metadata": {
    "colab": {
      "name": "2-3.파이썬의 자료형:리스트.ipynb",
      "provenance": [],
      "toc_visible": true,
      "include_colab_link": true
    },
    "kernelspec": {
      "name": "python3",
      "display_name": "Python 3"
    },
    "language_info": {
      "name": "python"
    }
  },
  "cells": [
    {
      "cell_type": "markdown",
      "metadata": {
        "id": "view-in-github",
        "colab_type": "text"
      },
      "source": [
        "<a href=\"https://colab.research.google.com/github/anmo4441/SkillTreePython/blob/main/2_3_%ED%8C%8C%EC%9D%B4%EC%8D%AC%EC%9D%98_%EC%9E%90%EB%A3%8C%ED%98%95_%EB%A6%AC%EC%8A%A4%ED%8A%B8.ipynb\" target=\"_parent\"><img src=\"https://colab.research.google.com/assets/colab-badge.svg\" alt=\"Open In Colab\"/></a>"
      ]
    },
    {
      "cell_type": "markdown",
      "source": [
        "# 2-3.파이썬의 자료형:리스트\n",
        "---\n",
        "* 날짜: 2022-12-27\n",
        "* 이름: 오혜성"
      ],
      "metadata": {
        "id": "kB5IciXEm6o4"
      }
    },
    {
      "cell_type": "markdown",
      "source": [
        "## 개념정리\n",
        "---\n",
        "\n",
        "리스트 자료형은 파이썬의 다양한 군집자료형 중의 하나입니다."
      ],
      "metadata": {
        "id": "4iN8NFzHRJ2D"
      }
    },
    {
      "cell_type": "markdown",
      "source": [
        "### (1) 생성\n"
      ],
      "metadata": {
        "id": "MAM8MDnfw68b"
      }
    },
    {
      "cell_type": "markdown",
      "source": [
        "* `[ ]` 기호를 통해 빈 리스트를 생성합니다.\n",
        "\n",
        "```\n",
        "a = []\n",
        "print(a, type(a) )\n",
        "```\n",
        "\n",
        "\n",
        "\n",
        "\n",
        "\n"
      ],
      "metadata": {
        "id": "UKlkHH0IRL5h"
      }
    },
    {
      "cell_type": "code",
      "source": [
        "a = [] # a = list() 도 가능\n",
        "# a = \"123\" 문자열\n",
        "# a = list(a) 문자열 -> 리스트\n",
        "print(a, type(a))"
      ],
      "metadata": {
        "id": "6UKRU-Uvw2YB",
        "colab": {
          "base_uri": "https://localhost:8080/"
        },
        "outputId": "60c4d826-4d65-4bd4-f2ae-b7d7fa931068"
      },
      "execution_count": 1,
      "outputs": [
        {
          "output_type": "stream",
          "name": "stdout",
          "text": [
            "[] <class 'list'>\n"
          ]
        }
      ]
    },
    {
      "cell_type": "markdown",
      "source": [
        "#### **리스트의 요소**\n",
        "\n",
        "리스트의 요소는 문자열 뿐만 아니라 또 다른 리스트, 수치 자료형 등 다양한 요소들을 포함할 수 있습니다. 리스트 안의 요소들은 통일 하지 않아도 유효합니다.\n",
        "\n",
        "```\n",
        "a = [1, \"a\", True, [1,2,3]]\n",
        "print(a, type(a))\n",
        "```"
      ],
      "metadata": {
        "id": "-YRAYwSTw84i"
      }
    },
    {
      "cell_type": "code",
      "source": [
        "a = [1, \"a\", True, [1,2,3]]\n",
        "print(a, type(a))"
      ],
      "metadata": {
        "id": "bjRDe1Jjw_Lp",
        "colab": {
          "base_uri": "https://localhost:8080/"
        },
        "outputId": "32f64c71-a31a-437b-878e-8ea7efc6957c"
      },
      "execution_count": 2,
      "outputs": [
        {
          "output_type": "stream",
          "name": "stdout",
          "text": [
            "[1, 'a', True, [1, 2, 3]] <class 'list'>\n"
          ]
        }
      ]
    },
    {
      "cell_type": "markdown",
      "source": [
        "### (2) 수정과 삭제\n",
        "\n",
        "리스트의 값을 수정하거나 삭제할 수 있습니다.\n",
        "\n"
      ],
      "metadata": {
        "id": "MSdELflJxC6Z"
      }
    },
    {
      "cell_type": "markdown",
      "source": [
        "#### **수정**\n",
        "\n",
        "```\n",
        "a = [1,2,3,4]\n",
        "a[0] = \"a\"\n",
        "print(a)\n",
        "```"
      ],
      "metadata": {
        "id": "yCHmayZ4xIhY"
      }
    },
    {
      "cell_type": "code",
      "source": [
        "a = [1,2,3,4] #수정과 삭제는 인덱싱을 기반으로 한다.\n",
        "a[0] = \"a\"\n",
        "print(a) "
      ],
      "metadata": {
        "id": "x-m2MhD0xAoi",
        "colab": {
          "base_uri": "https://localhost:8080/"
        },
        "outputId": "fab51232-b7e8-4999-d8fd-8768ae5aca22"
      },
      "execution_count": 3,
      "outputs": [
        {
          "output_type": "stream",
          "name": "stdout",
          "text": [
            "['a', 2, 3, 4]\n"
          ]
        }
      ]
    },
    {
      "cell_type": "markdown",
      "source": [
        "#### **삭제**\n",
        "\n",
        "\n",
        "```\n",
        "a = [1,2,3,4]\n",
        "del a[0]\n",
        "print(a)\n",
        "```\n"
      ],
      "metadata": {
        "id": "1RHkw6tVxKNi"
      }
    },
    {
      "cell_type": "code",
      "source": [
        "a = [1,2,3,4]\n",
        "del a[0]\n",
        "del a[0]\n",
        "del a[0]\n",
        "print(a)"
      ],
      "metadata": {
        "id": "lWVjQHe7xMxu",
        "colab": {
          "base_uri": "https://localhost:8080/"
        },
        "outputId": "2b0eb51e-d6c3-47ab-f206-e6806dcd1c62"
      },
      "execution_count": 5,
      "outputs": [
        {
          "output_type": "stream",
          "name": "stdout",
          "text": [
            "[4]\n"
          ]
        }
      ]
    },
    {
      "cell_type": "markdown",
      "source": [
        "\n",
        "### (3) 인덱싱과 슬라이싱\n",
        "\n",
        "앞서 문자열 자료형에서 이미 한 것과 마찬가지로 인덱싱과 슬라이싱 기능을 사용할 수 있습니다. 인덱싱과 슬라이싱에 사용되는 방식은 문자열 자료형과 동일합니다.\n"
      ],
      "metadata": {
        "id": "FTjQm5R9xQES"
      }
    },
    {
      "cell_type": "markdown",
      "source": [
        "\n",
        "#### **인덱싱**\n",
        "\n",
        "```\n",
        "a = [1,2,3,4,5]\n",
        "print(a[0]) # 인덱싱\n",
        "```\n"
      ],
      "metadata": {
        "id": "NCTA1LtHxPb2"
      }
    },
    {
      "cell_type": "code",
      "source": [],
      "metadata": {
        "id": "oJbf8dNCxUtz"
      },
      "execution_count": null,
      "outputs": []
    },
    {
      "cell_type": "markdown",
      "source": [
        "\n",
        "#### **슬라이싱**\n",
        "\n",
        "```\n",
        "print(a[:2]) # 슬라이싱\n",
        "```\n"
      ],
      "metadata": {
        "id": "IZWvcVEuxT17"
      }
    },
    {
      "cell_type": "code",
      "source": [],
      "metadata": {
        "id": "hTN9WKApxYgW"
      },
      "execution_count": null,
      "outputs": []
    },
    {
      "cell_type": "markdown",
      "source": [
        "### (4) 리스트의 연산\n",
        "\n",
        "리스트의 연산은 `+`(더하기)와 `*`(곱하기) 만 사용할 수 있습니다. 이 때 더하기는 리스트끼리의 덧셈만 가능하며, 곱하기는 리스트와 정수값의 곱만 가능함을 주의해야 합니다. 리스트끼리의 덧셈 결과는 두 리스트를 이어 붙인 리스트가 되고 리스트와 정수의 곱은 리스트의 정수크기만큼 이어붙인 리스트가 됩니다.\n",
        "\n",
        "연산을 위해 아래와 같이 변수를 정의합시다.\n",
        "\n",
        "```\n",
        "a = [1,2,3,4,5]\n",
        "b = [6,7,8,9,10]\n",
        "c = 3\n",
        "```\n"
      ],
      "metadata": {
        "id": "oAGI3wesxbPQ"
      }
    },
    {
      "cell_type": "code",
      "source": [
        "a = [1,2,3,4,5]\n",
        "b = [6,7,8,9,10]\n",
        "c = 3\n"
      ],
      "metadata": {
        "id": "P3tgi66wTLUC"
      },
      "execution_count": 7,
      "outputs": []
    },
    {
      "cell_type": "markdown",
      "source": [
        "#### **더하기**\n",
        "\n",
        "리스트와 리스트를 덧셈(+) 기호를 이용해 이어 붙일 수 있습니다. 실제 리스트 요소간의 덧셈이 아님을 유의합니다.\n",
        "\n",
        "\n",
        "```\n",
        "print(a+b) \n",
        "```"
      ],
      "metadata": {
        "id": "6I4qd2rvxc2a"
      }
    },
    {
      "cell_type": "code",
      "source": [
        "print(a+b) #하나의 리스트로 통합"
      ],
      "metadata": {
        "id": "Hne6R5ljxZCi",
        "colab": {
          "base_uri": "https://localhost:8080/"
        },
        "outputId": "c3085224-23b7-41fd-a0d9-ed7d8f5ad0d9"
      },
      "execution_count": 8,
      "outputs": [
        {
          "output_type": "stream",
          "name": "stdout",
          "text": [
            "[1, 2, 3, 4, 5, 6, 7, 8, 9, 10]\n"
          ]
        }
      ]
    },
    {
      "cell_type": "markdown",
      "source": [
        "#### **곱하기**\n",
        "\n",
        "리스트와 정수 값을 곱셈(*) 기호를 이용해 여러번 반복 합니다. 실제 리스트 요소의 곱셈이 아님을 유의합니다.\n",
        "\n",
        "```\n",
        "print(a*c)\n",
        "```"
      ],
      "metadata": {
        "id": "f9alJe6Bxe-Y"
      }
    },
    {
      "cell_type": "code",
      "source": [
        "print(a*c) # 리스트가 c만큼 반복한다."
      ],
      "metadata": {
        "id": "317mmmOwxgPQ",
        "colab": {
          "base_uri": "https://localhost:8080/"
        },
        "outputId": "699737a9-4963-4601-b2ac-5e26906877fe"
      },
      "execution_count": 9,
      "outputs": [
        {
          "output_type": "stream",
          "name": "stdout",
          "text": [
            "[1, 2, 3, 4, 5, 1, 2, 3, 4, 5, 1, 2, 3, 4, 5]\n"
          ]
        }
      ]
    },
    {
      "cell_type": "markdown",
      "source": [
        "### (5) 리스트 메소드\n",
        "\n",
        "지난번 문자열 메소드와 마찬가지로 리스트에도 다양한 내장함수 및 메소드가 존재합니다. \n",
        "\n",
        "|| 종류|\n",
        "|--|--|\n",
        "|내장함수| `len()`, `max()`, `min()`, `sum()`, `list()`, `sorted()`|\n",
        "|메소드| `.append()`, `.extend()`, `.count()`, `.index()`, `.insert()`, `.pop()`, `.remove()`, `.reverse()`, `.sort()`\n"
      ],
      "metadata": {
        "id": "L8rS3TL5xki9"
      }
    },
    {
      "cell_type": "markdown",
      "source": [
        "####  **내장함수**\n",
        "\n",
        "함수 사용을 위해 아래와 같은 리스트를 정의합시다.\n",
        "\n",
        "```\n",
        "a = [4,2,1,3]\n",
        "```\n"
      ],
      "metadata": {
        "id": "-ESG0psbxmvd"
      }
    },
    {
      "cell_type": "code",
      "source": [
        "a = [4,2,1,3]"
      ],
      "metadata": {
        "id": "ZRf2VzcdT3iT"
      },
      "execution_count": 11,
      "outputs": []
    },
    {
      "cell_type": "markdown",
      "source": [
        "* `len()`: 길이를 구합니다.\n",
        "\n",
        "```\n",
        "print(len(a))\n",
        "```\n"
      ],
      "metadata": {
        "id": "MdW-sk0VT3rk"
      }
    },
    {
      "cell_type": "code",
      "source": [
        "print(len(a))"
      ],
      "metadata": {
        "id": "AcjAp6Ukxiyk",
        "colab": {
          "base_uri": "https://localhost:8080/"
        },
        "outputId": "c2401ca0-6872-4fb9-8fa9-36802661c733"
      },
      "execution_count": 12,
      "outputs": [
        {
          "output_type": "stream",
          "name": "stdout",
          "text": [
            "4\n"
          ]
        }
      ]
    },
    {
      "cell_type": "markdown",
      "source": [
        "* `max()`: 최대값을 구합니다.\n",
        "\n",
        "```\n",
        "print(max(a))\n",
        "```\n"
      ],
      "metadata": {
        "id": "8kdgoT9lT7Hg"
      }
    },
    {
      "cell_type": "code",
      "source": [
        "print(max(a))"
      ],
      "metadata": {
        "id": "sydpBqVTT7OR",
        "colab": {
          "base_uri": "https://localhost:8080/"
        },
        "outputId": "bd3521cb-37e0-42a9-c561-8f1854ac8bb4"
      },
      "execution_count": 13,
      "outputs": [
        {
          "output_type": "stream",
          "name": "stdout",
          "text": [
            "4\n"
          ]
        }
      ]
    },
    {
      "cell_type": "markdown",
      "source": [
        "* `min()`: 최소값을 구합니다.\n",
        "\n",
        "```\n",
        "print(min(a))\n",
        "```\n"
      ],
      "metadata": {
        "id": "VZg-mKCMT_bw"
      }
    },
    {
      "cell_type": "code",
      "source": [
        "print(min(a))"
      ],
      "metadata": {
        "id": "OHLkSlKET_kh",
        "colab": {
          "base_uri": "https://localhost:8080/"
        },
        "outputId": "ec0a33fc-2882-443e-ec68-582a51bde692"
      },
      "execution_count": 14,
      "outputs": [
        {
          "output_type": "stream",
          "name": "stdout",
          "text": [
            "1\n"
          ]
        }
      ]
    },
    {
      "cell_type": "markdown",
      "source": [
        "* `sum()`: 모든값을 더합니다.\n",
        "\n",
        "```\n",
        "print(sum(a))\n",
        "```\n"
      ],
      "metadata": {
        "id": "mKNBwXxkUI6x"
      }
    },
    {
      "cell_type": "code",
      "source": [
        "print(sum(a))"
      ],
      "metadata": {
        "id": "34jjXr0AULfp",
        "colab": {
          "base_uri": "https://localhost:8080/"
        },
        "outputId": "3920fb70-1803-473f-8134-dd8c1aabad48"
      },
      "execution_count": 15,
      "outputs": [
        {
          "output_type": "stream",
          "name": "stdout",
          "text": [
            "10\n"
          ]
        }
      ]
    },
    {
      "cell_type": "markdown",
      "source": [
        "* `sorted()`: 값을 정렬합니다.\n",
        "\n",
        "```\n",
        "print(sorted(a))\n",
        "```"
      ],
      "metadata": {
        "id": "Po1JZjMDUUsC"
      }
    },
    {
      "cell_type": "code",
      "source": [
        "print(sorted(a)) # 오름차순 정렬\n",
        "# print(sorted(a, reverse = True)) 내림차순 정렬"
      ],
      "metadata": {
        "id": "EStm0HiFUayA",
        "colab": {
          "base_uri": "https://localhost:8080/"
        },
        "outputId": "8ff2b485-0bde-4ee9-ae3f-357845b4490f"
      },
      "execution_count": 16,
      "outputs": [
        {
          "output_type": "stream",
          "name": "stdout",
          "text": [
            "[1, 2, 3, 4]\n"
          ]
        }
      ]
    },
    {
      "cell_type": "markdown",
      "source": [
        "#### **메소드 : 추가**\n",
        "\n",
        "리스트에 요소를 추가하는 기능을 배워봅니다. 메소드 사용을 위해 아래와 같이 리스트를 정의해 봅시다.\n",
        "\n",
        "```\n",
        "a = [1,2,3]\n",
        "```\n",
        "\n"
      ],
      "metadata": {
        "id": "dwO3tPrNxo7h"
      }
    },
    {
      "cell_type": "code",
      "source": [
        "a = [1,2,3]"
      ],
      "metadata": {
        "id": "OEStgOVNUtea"
      },
      "execution_count": 17,
      "outputs": []
    },
    {
      "cell_type": "markdown",
      "source": [
        "\n",
        "* `append(obj)` : obj 추가\n",
        "\n",
        "리스트 `a`에 요소 `4`를 추가해 봅시다. \n",
        "```\n",
        "a.append(4)\n",
        "print(a)\n",
        "```\n",
        "\n"
      ],
      "metadata": {
        "id": "nD6qd8wwUtv5"
      }
    },
    {
      "cell_type": "code",
      "source": [
        "a.append(4)\n",
        "print(a)"
      ],
      "metadata": {
        "id": "orFtG2_qU7yJ",
        "colab": {
          "base_uri": "https://localhost:8080/"
        },
        "outputId": "b7ea8683-2d0e-43ad-cee0-d8e7ccef1252"
      },
      "execution_count": 18,
      "outputs": [
        {
          "output_type": "stream",
          "name": "stdout",
          "text": [
            "[1, 2, 3, 4]\n"
          ]
        }
      ]
    },
    {
      "cell_type": "markdown",
      "source": [
        "이번엔 요소 `[5]`를 추가해 봅시다. `[5]`는 리스트이긴 하지만 리스트 또한 다른 리스트의 요소로 존재할 수 있습니다.\n",
        "\n",
        "```\n",
        "a.append([5])\n",
        "print(a)\n",
        "```\n"
      ],
      "metadata": {
        "id": "ZIt98S_TU8Fx"
      }
    },
    {
      "cell_type": "code",
      "source": [
        "a.append([5])\n",
        "print(a)"
      ],
      "metadata": {
        "id": "XBNxGsFixsDD",
        "colab": {
          "base_uri": "https://localhost:8080/"
        },
        "outputId": "16d3c36c-337f-4492-b6e6-8c01c9f12ed5"
      },
      "execution_count": 19,
      "outputs": [
        {
          "output_type": "stream",
          "name": "stdout",
          "text": [
            "[1, 2, 3, 4, [5]]\n"
          ]
        }
      ]
    },
    {
      "cell_type": "markdown",
      "source": [
        "* `extend(list)` : list 이어붙이기\n",
        "\n",
        "`append`와 달리 `extend`는 리스트를 이어붙이는 역할을 합니다. 리스트 `[5]`를 이번엔 `extend`를 이용해 추가해 봅시다. \n",
        "\n",
        "```\n",
        "a.extend([5])\n",
        "print(a)\n",
        "```"
      ],
      "metadata": {
        "id": "XdlCt2p2VYQZ"
      }
    },
    {
      "cell_type": "code",
      "source": [
        "a.extend([5])\n",
        "print(a)"
      ],
      "metadata": {
        "colab": {
          "base_uri": "https://localhost:8080/"
        },
        "id": "YPzAiDLxMlso",
        "outputId": "3a79da8a-9ff4-44f1-feca-c74885a42e92"
      },
      "execution_count": 20,
      "outputs": [
        {
          "output_type": "stream",
          "name": "stdout",
          "text": [
            "[1, 2, 3, 4, [5], 5]\n"
          ]
        }
      ]
    },
    {
      "cell_type": "markdown",
      "source": [
        "\n",
        "* `.insert(idx, obj)` : idx 위치에 obj를 넣기\n",
        "\n",
        "리스트 `a`의 0번째 위치에 0을 넣어봅시다. \n",
        "\n",
        "```\n",
        "a.insert(0, 0)\n",
        "print(a)\n",
        "```\n",
        "\n"
      ],
      "metadata": {
        "id": "d0zqLIGxV2Sq"
      }
    },
    {
      "cell_type": "code",
      "source": [
        "a.insert(0, 0) # 0번째 위치에 0을 추가 \n",
        "print(a)\n",
        "a.insert(2,100) # 3번째 위치에 100을 추가 \n",
        "print(a)\n"
      ],
      "metadata": {
        "colab": {
          "base_uri": "https://localhost:8080/"
        },
        "id": "Yb0OicduM1iO",
        "outputId": "ff42c542-546d-483d-d049-d82feab64f61"
      },
      "execution_count": 24,
      "outputs": [
        {
          "output_type": "stream",
          "name": "stdout",
          "text": [
            "[0, 0, 0, 100, 1, 2, 1.5, 3, 4, [5], 5]\n",
            "[0, 0, 100, 0, 100, 1, 2, 1.5, 3, 4, [5], 5]\n"
          ]
        }
      ]
    },
    {
      "cell_type": "markdown",
      "source": [
        "* Q) 2와 3사이에 1.5를 넣어봅시다."
      ],
      "metadata": {
        "id": "yExklfu5WdYp"
      }
    },
    {
      "cell_type": "code",
      "source": [
        "a.insert(3, 1.5)\n",
        "print(a)"
      ],
      "metadata": {
        "id": "Ht7uFGuBM_x2",
        "colab": {
          "base_uri": "https://localhost:8080/"
        },
        "outputId": "6026496e-3cbc-4d36-d22a-5e87c1ecf8e6"
      },
      "execution_count": 25,
      "outputs": [
        {
          "output_type": "stream",
          "name": "stdout",
          "text": [
            "[0, 0, 100, 1.5, 0, 100, 1, 2, 1.5, 3, 4, [5], 5]\n"
          ]
        }
      ]
    },
    {
      "cell_type": "markdown",
      "source": [
        "#### **메소드: 제거**\n",
        "\n",
        "리스트에 요소 추가를 했다면 제거하는 메소드도 존재합니다. 메소드 사용을 위해 아래와 같이 리스트를 정의합니다.\n",
        "\n",
        "```\n",
        "a = [1,2,3,2,5]\n",
        "```\n",
        "\n"
      ],
      "metadata": {
        "id": "wbYoRsLHx1JU"
      }
    },
    {
      "cell_type": "code",
      "source": [
        "a = [1,2,3,2,5]"
      ],
      "metadata": {
        "id": "oD5pRLSFXJz5"
      },
      "execution_count": 26,
      "outputs": []
    },
    {
      "cell_type": "markdown",
      "source": [
        "* `remove(obj)` : obj 제거 (중복시 앞순서부터 제거)\n",
        "\n",
        "리스트에서 1을 제거해 봅시다.\n",
        "\n",
        "```\n",
        "a.remove(1)\n",
        "print(a)\n",
        "```"
      ],
      "metadata": {
        "id": "i2Tza8WyXKB6"
      }
    },
    {
      "cell_type": "code",
      "source": [
        "a.remove(1)\n",
        "print(a)"
      ],
      "metadata": {
        "id": "J51ImmkWxxNR",
        "colab": {
          "base_uri": "https://localhost:8080/"
        },
        "outputId": "ab40fe9b-066b-4dd2-f299-7bdcdbde2dbe"
      },
      "execution_count": 27,
      "outputs": [
        {
          "output_type": "stream",
          "name": "stdout",
          "text": [
            "[2, 3, 2, 5]\n"
          ]
        }
      ]
    },
    {
      "cell_type": "markdown",
      "source": [
        "이번엔 2를 제거해 봅시다. 리스트 안에 2는 두개가 존재합니다. 어떤값이 지워질까요?\n",
        "\n",
        "```\n",
        "a.remove(2)\n",
        "print(a)\n",
        "```"
      ],
      "metadata": {
        "id": "cwE5OWK-XUbR"
      }
    },
    {
      "cell_type": "code",
      "source": [
        "a.remove(2)\n",
        "print(a) # 가장 첫 번째 2가 삭제된다."
      ],
      "metadata": {
        "id": "-8H_XibiXcVx",
        "colab": {
          "base_uri": "https://localhost:8080/"
        },
        "outputId": "4a781fa5-2fa5-487e-fe52-4e3dbda4676e"
      },
      "execution_count": 28,
      "outputs": [
        {
          "output_type": "stream",
          "name": "stdout",
          "text": [
            "[3, 2, 5]\n"
          ]
        }
      ]
    },
    {
      "cell_type": "markdown",
      "source": [
        "* `pop()` : 마지막 요소제거\n",
        "\n",
        "\n",
        "```\n",
        "a.pop()\n",
        "print(a)\n",
        "```"
      ],
      "metadata": {
        "id": "meuOE0NXXNEh"
      }
    },
    {
      "cell_type": "code",
      "source": [
        "a.pop() # 가장 마지막 요소가 제거된다. pop은 기본값이 -1 이다. \n",
        "print(a)"
      ],
      "metadata": {
        "id": "s40EvGRKOncR",
        "colab": {
          "base_uri": "https://localhost:8080/"
        },
        "outputId": "799cbb1a-f1ec-4307-8d48-6ad381db95a3"
      },
      "execution_count": 29,
      "outputs": [
        {
          "output_type": "stream",
          "name": "stdout",
          "text": [
            "[3, 2]\n"
          ]
        }
      ]
    },
    {
      "cell_type": "markdown",
      "source": [
        "#### **메소드: 기타**\n",
        "\n",
        "또 다른 유용한 메소드에 관해 알아봅시다. 아래와 같이 리스트를 정의합니다.\n",
        "\n",
        "```\n",
        "a = [2,2,1,3,3,3]\n",
        "```\n"
      ],
      "metadata": {
        "id": "6pUP1VVvx5Ai"
      }
    },
    {
      "cell_type": "code",
      "source": [
        "a = [2,2,1,3,3,3]"
      ],
      "metadata": {
        "id": "TWumDY44YpBi"
      },
      "execution_count": 30,
      "outputs": []
    },
    {
      "cell_type": "markdown",
      "source": [
        "\n",
        "* `count(obj)` : obj 개수 카운트\n",
        "\n",
        "리스트 안에 3이 몇개 있는지 알아봅시다.\n",
        "\n",
        "```\n",
        "a.count(3)\n",
        "```"
      ],
      "metadata": {
        "id": "aIpWJhymYpMy"
      }
    },
    {
      "cell_type": "code",
      "source": [
        "a.count(3)\n"
      ],
      "metadata": {
        "id": "RYMGWumOYv8a",
        "colab": {
          "base_uri": "https://localhost:8080/"
        },
        "outputId": "d3ac4de7-c1a5-4f79-a910-d9d6d3b8753b"
      },
      "execution_count": 31,
      "outputs": [
        {
          "output_type": "execute_result",
          "data": {
            "text/plain": [
              "3"
            ]
          },
          "metadata": {},
          "execution_count": 31
        }
      ]
    },
    {
      "cell_type": "markdown",
      "source": [
        "* `index(obj)` : obj 위치 인덱싱 (중복시 앞순서부터)\n",
        "\n",
        "특정 요소가 몇번째에 위치해 있는지를 알려줍시다. 리스트에서 1은 2번째 인덱스를 가지고 있네요. 메소드를 이용해 같은 값이 나오는지 확인해 봅시다. \n",
        "\n",
        "```\n",
        "a.index(1)\n",
        "```"
      ],
      "metadata": {
        "id": "btUaEjvBYwK6"
      }
    },
    {
      "cell_type": "code",
      "source": [
        "a.index(1)"
      ],
      "metadata": {
        "id": "scDR3WfVZGXK",
        "colab": {
          "base_uri": "https://localhost:8080/"
        },
        "outputId": "373549df-c89a-47c6-865f-5d4a85fdc64c"
      },
      "execution_count": 32,
      "outputs": [
        {
          "output_type": "execute_result",
          "data": {
            "text/plain": [
              "2"
            ]
          },
          "metadata": {},
          "execution_count": 32
        }
      ]
    },
    {
      "cell_type": "markdown",
      "source": [
        "중복시 가장 빠른 요소의 인덱스만을 반환함을 유의하세요.\n",
        "\n",
        "```\n",
        "a.index(3)\n",
        "```"
      ],
      "metadata": {
        "id": "9tURmZfHZHZy"
      }
    },
    {
      "cell_type": "code",
      "source": [
        "a.index(3)"
      ],
      "metadata": {
        "id": "JTYHhGLiZNkC",
        "colab": {
          "base_uri": "https://localhost:8080/"
        },
        "outputId": "902637a6-9b31-49cc-a691-aea99c1bbbc2"
      },
      "execution_count": 33,
      "outputs": [
        {
          "output_type": "execute_result",
          "data": {
            "text/plain": [
              "3"
            ]
          },
          "metadata": {},
          "execution_count": 33
        }
      ]
    },
    {
      "cell_type": "markdown",
      "source": [
        "* `reverse()`: 리스트 거꾸로 반환\n",
        "\n",
        "```\n",
        "a.reverse()\n",
        "print(a)\n",
        "```"
      ],
      "metadata": {
        "id": "YMlsxsgsYeui"
      }
    },
    {
      "cell_type": "code",
      "source": [
        "a.reverse()\n",
        "print(a)"
      ],
      "metadata": {
        "id": "NTtbXHSwx3YM",
        "colab": {
          "base_uri": "https://localhost:8080/"
        },
        "outputId": "a0158413-8fa2-4692-a648-e6dbee615a17"
      },
      "execution_count": 34,
      "outputs": [
        {
          "output_type": "stream",
          "name": "stdout",
          "text": [
            "[3, 3, 3, 1, 2, 2]\n"
          ]
        }
      ]
    },
    {
      "cell_type": "markdown",
      "source": [
        "* `sort()`: 리스트 정렬\n",
        "\n",
        "```\n",
        "a.sort()\n",
        "print(a)\n",
        "```"
      ],
      "metadata": {
        "id": "r_UTr3plZPms"
      }
    },
    {
      "cell_type": "code",
      "source": [
        "a.sort()\n",
        "print(a)"
      ],
      "metadata": {
        "id": "JBevkTM1Px8P",
        "colab": {
          "base_uri": "https://localhost:8080/"
        },
        "outputId": "e2c5620b-e191-4c29-de4b-43d5183e6294"
      },
      "execution_count": 35,
      "outputs": [
        {
          "output_type": "stream",
          "name": "stdout",
          "text": [
            "[1, 2, 2, 3, 3, 3]\n"
          ]
        }
      ]
    },
    {
      "cell_type": "markdown",
      "source": [
        "### (6) 다중리스트\n",
        "\n",
        "리스트 안에 리스트가 존재할 수 있습니다. 복잡한 리스트 이더라도 특정 요소에 접근이 가능해야 합니다. \n",
        "\n",
        "앞서 배운대로 `a[0]`과 `a[1]`에 해당하는 요소는 무엇일까요? 생각해보고 코드를 작성해 확인해 봅시다.\n",
        "\n",
        "```\n",
        "a = [[1,2,3], [4,5,6]]\n",
        "a[0], a[1]\n",
        "```\n"
      ],
      "metadata": {
        "id": "J0IbBer2x9uS"
      }
    },
    {
      "cell_type": "code",
      "source": [
        "a = [[1,2,3], [4,5,6]]\n",
        "a[0], a[1]\n",
        "print(a[0], type(a[0]))\n",
        "print(a[1], type(a[1]))\n",
        "\n",
        "print(a[0][-1])\n",
        "print(a[1][0])\n"
      ],
      "metadata": {
        "id": "0lajZYAWyAqd",
        "colab": {
          "base_uri": "https://localhost:8080/"
        },
        "outputId": "278dc449-d164-4805-de53-e089aa1c6dad"
      },
      "execution_count": 57,
      "outputs": [
        {
          "output_type": "stream",
          "name": "stdout",
          "text": [
            "[1, 2, 3] <class 'list'>\n",
            "[4, 5, 6] <class 'list'>\n",
            "3\n",
            "4\n"
          ]
        }
      ]
    },
    {
      "cell_type": "markdown",
      "source": [
        "\n",
        "a[0]과 a[1] 자체가 하나의 리스트 입니다. 그렇다면 각 리스트에 다시 인덱싱을 하여 원하는 요소를 얻을 수 있겠네요. 3과 4를 아래와 같이 인덱싱 할 수 있습니다.\n",
        "\n",
        "```\n",
        "a = [[1,2,3], [4,5,6]]\n",
        "a[0][-1], a[1][0]\n",
        "```"
      ],
      "metadata": {
        "id": "pay-DD8Bx__x"
      }
    },
    {
      "cell_type": "code",
      "source": [
        "a = [[1,2,3], [4,5,6]]\n",
        "a[0][-1], a[1][0]"
      ],
      "metadata": {
        "id": "ZI01D1Yfx7_5",
        "colab": {
          "base_uri": "https://localhost:8080/"
        },
        "outputId": "c56484e1-63ce-4022-c972-9de31bb797b5"
      },
      "execution_count": 37,
      "outputs": [
        {
          "output_type": "execute_result",
          "data": {
            "text/plain": [
              "(3, 4)"
            ]
          },
          "metadata": {},
          "execution_count": 37
        }
      ]
    },
    {
      "cell_type": "markdown",
      "source": [
        "## 문제풀이\n",
        "---\n",
        "\n",
        "**예제 01**\n",
        "\n",
        "과일메뉴가 다음과 같습니다. 리스트로 작성하세요\n",
        "\n",
        "|과일|\n",
        "|--|\n",
        "사과\n",
        "바나나\n",
        "감자\n",
        "메론\n",
        "복숭아\n",
        "딸기\n"
      ],
      "metadata": {
        "id": "10dgCNxtyEOB"
      }
    },
    {
      "cell_type": "code",
      "source": [
        "fruit = [\"apple\", \"banana\", \"potato\", \"melon\", \"peach\", \"strawberry\"]"
      ],
      "metadata": {
        "id": "WelbZYpXyC1b"
      },
      "execution_count": 42,
      "outputs": []
    },
    {
      "cell_type": "markdown",
      "source": [
        "**예제 02**\n",
        "\n",
        "위에서 만든 리스트에 \"포도\"를 추가하세요\n",
        "\n"
      ],
      "metadata": {
        "id": "DNXAH9h-yKOy"
      }
    },
    {
      "cell_type": "code",
      "source": [
        "fruit.append(\"grape\")\n",
        "print(fruit)"
      ],
      "metadata": {
        "id": "R0TMuejgyKeB",
        "colab": {
          "base_uri": "https://localhost:8080/"
        },
        "outputId": "dff3d839-3d6b-4392-cd69-9151645e6c87"
      },
      "execution_count": 43,
      "outputs": [
        {
          "output_type": "stream",
          "name": "stdout",
          "text": [
            "['apple', 'banana', 'potato', 'melon', 'peach', 'strawberry', 'grape']\n"
          ]
        }
      ]
    },
    {
      "cell_type": "markdown",
      "source": [
        "**예제 03**\n",
        "\n",
        "\"감자\"가 잘못 들어가 있었습니다. \"감자\"를 삭제하세요\n"
      ],
      "metadata": {
        "id": "9LxnIJV_yNPZ"
      }
    },
    {
      "cell_type": "code",
      "source": [
        "del fruit[2]\n",
        "print(fruit)"
      ],
      "metadata": {
        "id": "tcyCWxxHyNcR",
        "colab": {
          "base_uri": "https://localhost:8080/"
        },
        "outputId": "e2e75586-5528-4114-f1ee-e7c3243caf26"
      },
      "execution_count": 50,
      "outputs": [
        {
          "output_type": "stream",
          "name": "stdout",
          "text": [
            "['apple', 'banana', 'lemon', 'peach', 'strawberry', 'grape']\n"
          ]
        }
      ]
    },
    {
      "cell_type": "markdown",
      "source": [
        "**예제 04**\n",
        "\n",
        "\"복숭아\"와 \"딸기\" 사이에 \"레몬\"을 추가하세요"
      ],
      "metadata": {
        "id": "NtqOdnqNyOVU"
      }
    },
    {
      "cell_type": "code",
      "source": [
        "fruit.insert(4,\"lemon\")\n",
        "print(fruit)"
      ],
      "metadata": {
        "id": "jUjMe-rCyOj5",
        "colab": {
          "base_uri": "https://localhost:8080/"
        },
        "outputId": "9f6d9181-9535-4ec6-f74b-8028f5982307"
      },
      "execution_count": 51,
      "outputs": [
        {
          "output_type": "stream",
          "name": "stdout",
          "text": [
            "['apple', 'banana', 'lemon', 'peach', 'lemon', 'strawberry', 'grape']\n"
          ]
        }
      ]
    },
    {
      "cell_type": "markdown",
      "source": [
        "**예제 05**\n",
        "\n",
        "최종적으로 만든 리스트 순서는 아래와 같습니다. \n",
        "\n",
        "* 리스트 순서: 사과, 바나나, 메론, 복숭아, 레몬, 딸기, 포도\n",
        "\n",
        "사용자가 리스트 안의 과일을 입력하면 입력한 과일이 몇번째에 있는지 알려주는 코드를 작성하세요\n",
        "\n",
        "```\n",
        ">> 0\n",
        "0 번째 과일은 사과 입니다.\n",
        ">>3\n",
        "3 번째 과일은 복숭아 입니다.\n",
        "```"
      ],
      "metadata": {
        "id": "T1ALK6vnyP0V"
      }
    },
    {
      "cell_type": "code",
      "source": [
        "fruit = [\"apple\", \"banana\", \"melon\", \"peach\", \"lemon\", \"strawberry\", \"grape\"]\n",
        "a1 = input(\" Choice fruit : \")\n",
        "c = fruit.index(a1)\n",
        "print(f\"{c} 번째 과일은 {a1} 입니다.\")\n",
        "\n",
        "\n"
      ],
      "metadata": {
        "id": "_AYhewpsyQFt",
        "colab": {
          "base_uri": "https://localhost:8080/"
        },
        "outputId": "de0ad3a0-ef32-467b-8246-420fa299f06f"
      },
      "execution_count": 73,
      "outputs": [
        {
          "output_type": "stream",
          "name": "stdout",
          "text": [
            " Choice fruit : melon\n",
            "2 번째 과일은 melon 입니다.\n"
          ]
        }
      ]
    },
    {
      "cell_type": "markdown",
      "source": [
        "**예제 06**\n",
        "\n",
        "리스트가 아래와 같이 정의되어 있습니다. `num_list`를 정의하세요\n",
        "\n",
        "```\n",
        "num_list = [1,2,3,4,5,6,7,8,9,10]\n",
        "```\n"
      ],
      "metadata": {
        "id": "YUaU-1pfyRUC"
      }
    },
    {
      "cell_type": "code",
      "source": [
        "num_list = [1,2,3,4,5,6,7,8,9,10]"
      ],
      "metadata": {
        "id": "Xqcfar_hySO1"
      },
      "execution_count": 58,
      "outputs": []
    },
    {
      "cell_type": "markdown",
      "source": [
        "**예제 07**\n",
        "\n",
        "`num_list` 의 짝수 값만 슬라이싱 해서 `num_list1` 로 바인딩 하고 출력하세요."
      ],
      "metadata": {
        "id": "bH5e_QRmySVB"
      }
    },
    {
      "cell_type": "code",
      "source": [
        "num_list1 = str(num_list)\n",
        "print(num_list1[::2])\n"
      ],
      "metadata": {
        "id": "TEPXLwiryS7Z",
        "colab": {
          "base_uri": "https://localhost:8080/"
        },
        "outputId": "a5746dd2-58dd-47bd-d768-eb1113ccb912"
      },
      "execution_count": 85,
      "outputs": [
        {
          "output_type": "stream",
          "name": "stdout",
          "text": [
            "[,2 ,4 ,6 ,8 ,1]\n"
          ]
        }
      ]
    },
    {
      "cell_type": "markdown",
      "source": [
        "**예제 08**\n",
        "\n",
        "`num_list` 의 홀수 값만 슬라이싱 해서 `num_list2` 로 바인딩 하고 출력하세요."
      ],
      "metadata": {
        "id": "Jqvl4MAcyTCC"
      }
    },
    {
      "cell_type": "code",
      "source": [],
      "metadata": {
        "id": "KdHo2kBfyUD1"
      },
      "execution_count": null,
      "outputs": []
    },
    {
      "cell_type": "markdown",
      "source": [
        "**예제 09**\n",
        "\n",
        "`num_list` 의 3의 배수만 슬라이싱 해서 `num_list3` 으로 바인딩 하고 출력하세요.\n"
      ],
      "metadata": {
        "id": "XJxjxXw4yUIn"
      }
    },
    {
      "cell_type": "code",
      "source": [],
      "metadata": {
        "id": "5D97VwoMyVUZ"
      },
      "execution_count": null,
      "outputs": []
    },
    {
      "cell_type": "markdown",
      "source": [
        "**예제 10**\n",
        "\n",
        "`num_list1` 과 `num_list2` 를 합쳐 `num_list4`으로 바인딩하세요"
      ],
      "metadata": {
        "id": "B-QcwLaRyVbR"
      }
    },
    {
      "cell_type": "code",
      "source": [],
      "metadata": {
        "id": "uL_e6MSIyWf9"
      },
      "execution_count": null,
      "outputs": []
    },
    {
      "cell_type": "markdown",
      "source": [
        "**예제 11**\n",
        "\n",
        "`num_list4` 을 오름차순으로 정렬하세요"
      ],
      "metadata": {
        "id": "av3wiMDXyWmp"
      }
    },
    {
      "cell_type": "code",
      "source": [],
      "metadata": {
        "id": "tZsgqq-ZyXu5"
      },
      "execution_count": null,
      "outputs": []
    },
    {
      "cell_type": "markdown",
      "source": [
        "**예제 12**\n",
        "\n",
        "리스트가 아래와 같이 정의되어 있습니다. 문자열로 바꿔 출력하는 코드를 두 줄만 써서 작성하세요\n",
        "\n",
        "```\n",
        ">> my_list = [\"a\", \"b\", \"c\", \"d\"]\n",
        ">> # 코드작성 (join 사용)\n",
        ">> # 코드작성 (print 사용)\n",
        "a and b and c and d\n",
        "```"
      ],
      "metadata": {
        "id": "cuUqINKNyX0l"
      }
    },
    {
      "cell_type": "code",
      "source": [],
      "metadata": {
        "id": "pBc-WbyqyY8L"
      },
      "execution_count": null,
      "outputs": []
    },
    {
      "cell_type": "markdown",
      "source": [
        "\n",
        "**예제 13**\n",
        "\n",
        "사용자가 문자열을 입력하면 리스트로 변환하는 코드를 작성하세요\n",
        "\n",
        "|예시| 결과|\n",
        "--|--\n",
        "`a,b`| `['a','b']`\n",
        "`a,c,d,f,q`| `['a','c','d','f','q']`\n",
        "`d,c,a,b`| `['d','c','a','b']`"
      ],
      "metadata": {
        "id": "GSJutIluyZDE"
      }
    },
    {
      "cell_type": "code",
      "source": [
        "input"
      ],
      "metadata": {
        "id": "JUBVY2PFyad2"
      },
      "execution_count": null,
      "outputs": []
    },
    {
      "cell_type": "markdown",
      "source": [
        "**예제 14**\n",
        "\n",
        "사용자가 문자열을 입력하면 오름차순으로 정렬한 리스트를 출력하는 코드를 작성하세요\n",
        "\n",
        "|예시| 결과|\n",
        "--|--\n",
        "`a,b`| `['a','b']`\n",
        "`a,c,d,f,e`| `['a','c','d','e','f']`\n",
        "`d,c,a,b`| `['a', 'b', 'c', 'd']`"
      ],
      "metadata": {
        "id": "va1QjSuKyajf"
      }
    },
    {
      "cell_type": "code",
      "source": [
        "input"
      ],
      "metadata": {
        "id": "2GqE1YNfyb6Y"
      },
      "execution_count": null,
      "outputs": []
    },
    {
      "cell_type": "markdown",
      "source": [
        "\n",
        "**예제 15**\n",
        "\n",
        "사용자가 문자열을 입력하면 문자열을 뒤집은 리스트를 출력하는 코드를 작성하세요\n",
        "\n",
        "|예시| 결과|\n",
        "--|--\n",
        "`a,b`| `['b','a']`\n",
        "`a,c,d,f,e`| `['e','f','d','c','a']`\n",
        "`d,c,a,b`| `['b', 'a', 'c', 'd']`"
      ],
      "metadata": {
        "id": "yQydjxf2ycAb"
      }
    },
    {
      "cell_type": "code",
      "source": [
        "input"
      ],
      "metadata": {
        "id": "0XFr13DEyc9M"
      },
      "execution_count": null,
      "outputs": []
    },
    {
      "cell_type": "markdown",
      "source": [
        "**예제 16**\n",
        "\n",
        "\n",
        "사용자가 문자열을 입력하면 내림차순으로 정렬한 리스트를 출력하는 코드를 작성하세요\n",
        "\n",
        "|예시| 결과|\n",
        "--|--\n",
        "`a,b`| `['b','a']`\n",
        "`a,c,d,f,e`| `['f','e','d','c','a']`\n",
        "`d,c,a.b`| `['d', 'c', 'b', 'a']`"
      ],
      "metadata": {
        "id": "7RtmhPClydCL"
      }
    },
    {
      "cell_type": "code",
      "source": [
        "input"
      ],
      "metadata": {
        "id": "ZPz3gvrNyeDX"
      },
      "execution_count": null,
      "outputs": []
    },
    {
      "cell_type": "markdown",
      "source": [
        "**예제 17**\n",
        "\n",
        "기말고사 점수가 아래와 같습니다. score를 정의하세요\n",
        "\n",
        "```\n",
        "score = [80,20,30,50,20,20,100,90]\n",
        "```\n"
      ],
      "metadata": {
        "id": "CDXGDE6pyeH0"
      }
    },
    {
      "cell_type": "code",
      "source": [],
      "metadata": {
        "id": "pnZC_F8KyfJv"
      },
      "execution_count": null,
      "outputs": []
    },
    {
      "cell_type": "markdown",
      "source": [
        "**예제 18**\n",
        "\n",
        "기말고사 점수의 최저점수와 최고점수를 구하는 코드를 작성하세요"
      ],
      "metadata": {
        "id": "eIHyjLuEyfUE"
      }
    },
    {
      "cell_type": "code",
      "source": [],
      "metadata": {
        "id": "z5Tahx1RygUO"
      },
      "execution_count": null,
      "outputs": []
    },
    {
      "cell_type": "markdown",
      "source": [
        "**예제 19**\n",
        "\n",
        "기말고사 점수의 평균을 구하는 코드를 작성하세요"
      ],
      "metadata": {
        "id": "Dzo9toUeygYN"
      }
    },
    {
      "cell_type": "code",
      "source": [],
      "metadata": {
        "id": "-D_dExStyhf3"
      },
      "execution_count": null,
      "outputs": []
    },
    {
      "cell_type": "markdown",
      "source": [
        "**예제 20**\n",
        "\n",
        "아파트 층이 다음과 같습니다. 리스트로 저장하세요 (이 리스트의 길이는 4입니다(층별) 각 층별 안에 3개의 호수가 들어갑니다.)\n",
        "\n",
        "\n",
        "```\n",
        "|401|402|403|\n",
        "|301|302|303|\n",
        "|201|202|203|\n",
        "|101|102|103|\n",
        "```\n"
      ],
      "metadata": {
        "id": "ZyLrkr52yhli"
      }
    },
    {
      "cell_type": "code",
      "source": [],
      "metadata": {
        "id": "ISoOLbXeyik2"
      },
      "execution_count": null,
      "outputs": []
    },
    {
      "cell_type": "markdown",
      "source": [
        "**예제 21**\n",
        "\n",
        "이 리스트의 길이를 출력하고 길이가 4인지 확인하세요"
      ],
      "metadata": {
        "id": "dXnc8Z0dyiqf"
      }
    },
    {
      "cell_type": "code",
      "source": [],
      "metadata": {
        "id": "KaUWU20Nyjww"
      },
      "execution_count": null,
      "outputs": []
    },
    {
      "cell_type": "markdown",
      "source": [
        "**예제 22**\n",
        "\n",
        "`[401,402,403]` 을 출력하세요"
      ],
      "metadata": {
        "id": "EFGvpPuny_DM"
      }
    },
    {
      "cell_type": "code",
      "source": [],
      "metadata": {
        "id": "8bn_8vsZy-tj"
      },
      "execution_count": null,
      "outputs": []
    },
    {
      "cell_type": "markdown",
      "source": [
        "\n",
        "\n",
        "**예제 23**\n",
        "\n",
        "`202`를 출력하세요"
      ],
      "metadata": {
        "id": "zs6lSM8zyj3O"
      }
    },
    {
      "cell_type": "code",
      "source": [],
      "metadata": {
        "id": "ZGY-lH56ymeE"
      },
      "execution_count": null,
      "outputs": []
    },
    {
      "cell_type": "markdown",
      "source": [
        "**예제 24**\n",
        "\n",
        "`303`호를 출력하세요"
      ],
      "metadata": {
        "id": "RlXMDPe9ymlq"
      }
    },
    {
      "cell_type": "code",
      "source": [],
      "metadata": {
        "id": "k9RZeqdWynss"
      },
      "execution_count": null,
      "outputs": []
    }
  ]
}